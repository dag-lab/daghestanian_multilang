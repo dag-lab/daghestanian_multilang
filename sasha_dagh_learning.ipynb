{
 "cells": [
  {
   "cell_type": "code",
   "execution_count": 72,
   "metadata": {
    "collapsed": true
   },
   "outputs": [],
   "source": [
    "import pandas as pd"
   ]
  },
  {
   "cell_type": "code",
   "execution_count": 214,
   "metadata": {
    "collapsed": false
   },
   "outputs": [],
   "source": [
    "df = pd.DataFrame.from_csv('new_dag_dataset_forscript-out.csv', sep=';', index_col=None)"
   ]
  },
  {
   "cell_type": "code",
   "execution_count": 215,
   "metadata": {
    "collapsed": true
   },
   "outputs": [],
   "source": [
    "# df = df.loc[df['year_of_birth'] < 1920]\n",
    "# df = df.loc[df['year_of_birth'] > 1939]\n",
    "# df = df.loc[(df['year_of_birth'] >= 1920) & (df['year_of_birth'] <= 1940)]"
   ]
  },
  {
   "cell_type": "code",
   "execution_count": 216,
   "metadata": {
    "collapsed": false
   },
   "outputs": [],
   "source": [
    "villages = sorted(set(df['village']))\n",
    "vill_dict = {name: i for i, name in enumerate(villages)}\n",
    "village_lang = sorted(set(df['village_lang']))\n",
    "vill_lang_dict = {name: i for i, name in enumerate(village_lang)}"
   ]
  },
  {
   "cell_type": "code",
   "execution_count": 217,
   "metadata": {
    "collapsed": false
   },
   "outputs": [],
   "source": [
    "col_list = ['village_lang_int','village_int','female','close_multiling','far_multiling','rus','year_of_birth']\n",
    "df['village_int'] = df['village'].apply(lambda x: vill_dict[x])\n",
    "df['village_lang_int'] = df['village_lang'].apply(lambda x: vill_lang_dict[x])\n",
    "for x in col_list:\n",
    "    try:\n",
    "        df[x] = df[x].apply(int)\n",
    "    except:\n",
    "        print('failure on {}'.format(x))"
   ]
  },
  {
   "cell_type": "code",
   "execution_count": 218,
   "metadata": {
    "collapsed": false
   },
   "outputs": [],
   "source": [
    "df = df[col_list]"
   ]
  },
  {
   "cell_type": "code",
   "execution_count": 219,
   "metadata": {
    "collapsed": false,
    "scrolled": true
   },
   "outputs": [
    {
     "data": {
      "text/html": [
       "<div>\n",
       "<table border=\"1\" class=\"dataframe\">\n",
       "  <thead>\n",
       "    <tr style=\"text-align: right;\">\n",
       "      <th></th>\n",
       "      <th>village_lang_int</th>\n",
       "      <th>village_int</th>\n",
       "      <th>female</th>\n",
       "      <th>close_multiling</th>\n",
       "      <th>far_multiling</th>\n",
       "      <th>rus</th>\n",
       "      <th>year_of_birth</th>\n",
       "    </tr>\n",
       "  </thead>\n",
       "  <tbody>\n",
       "    <tr>\n",
       "      <th>21</th>\n",
       "      <td>8</td>\n",
       "      <td>35</td>\n",
       "      <td>0</td>\n",
       "      <td>1</td>\n",
       "      <td>1</td>\n",
       "      <td>1</td>\n",
       "      <td>1927</td>\n",
       "    </tr>\n",
       "    <tr>\n",
       "      <th>22</th>\n",
       "      <td>8</td>\n",
       "      <td>35</td>\n",
       "      <td>0</td>\n",
       "      <td>1</td>\n",
       "      <td>1</td>\n",
       "      <td>1</td>\n",
       "      <td>1930</td>\n",
       "    </tr>\n",
       "    <tr>\n",
       "      <th>23</th>\n",
       "      <td>8</td>\n",
       "      <td>35</td>\n",
       "      <td>1</td>\n",
       "      <td>0</td>\n",
       "      <td>0</td>\n",
       "      <td>0</td>\n",
       "      <td>1931</td>\n",
       "    </tr>\n",
       "    <tr>\n",
       "      <th>24</th>\n",
       "      <td>8</td>\n",
       "      <td>35</td>\n",
       "      <td>0</td>\n",
       "      <td>1</td>\n",
       "      <td>0</td>\n",
       "      <td>1</td>\n",
       "      <td>1931</td>\n",
       "    </tr>\n",
       "    <tr>\n",
       "      <th>25</th>\n",
       "      <td>8</td>\n",
       "      <td>35</td>\n",
       "      <td>0</td>\n",
       "      <td>1</td>\n",
       "      <td>0</td>\n",
       "      <td>1</td>\n",
       "      <td>1931</td>\n",
       "    </tr>\n",
       "    <tr>\n",
       "      <th>26</th>\n",
       "      <td>8</td>\n",
       "      <td>35</td>\n",
       "      <td>0</td>\n",
       "      <td>1</td>\n",
       "      <td>1</td>\n",
       "      <td>1</td>\n",
       "      <td>1931</td>\n",
       "    </tr>\n",
       "    <tr>\n",
       "      <th>27</th>\n",
       "      <td>8</td>\n",
       "      <td>35</td>\n",
       "      <td>0</td>\n",
       "      <td>1</td>\n",
       "      <td>0</td>\n",
       "      <td>1</td>\n",
       "      <td>1932</td>\n",
       "    </tr>\n",
       "    <tr>\n",
       "      <th>28</th>\n",
       "      <td>8</td>\n",
       "      <td>35</td>\n",
       "      <td>1</td>\n",
       "      <td>0</td>\n",
       "      <td>0</td>\n",
       "      <td>1</td>\n",
       "      <td>1932</td>\n",
       "    </tr>\n",
       "    <tr>\n",
       "      <th>29</th>\n",
       "      <td>8</td>\n",
       "      <td>35</td>\n",
       "      <td>1</td>\n",
       "      <td>1</td>\n",
       "      <td>0</td>\n",
       "      <td>1</td>\n",
       "      <td>1933</td>\n",
       "    </tr>\n",
       "    <tr>\n",
       "      <th>30</th>\n",
       "      <td>8</td>\n",
       "      <td>35</td>\n",
       "      <td>1</td>\n",
       "      <td>0</td>\n",
       "      <td>0</td>\n",
       "      <td>0</td>\n",
       "      <td>1933</td>\n",
       "    </tr>\n",
       "    <tr>\n",
       "      <th>31</th>\n",
       "      <td>8</td>\n",
       "      <td>35</td>\n",
       "      <td>1</td>\n",
       "      <td>2</td>\n",
       "      <td>0</td>\n",
       "      <td>1</td>\n",
       "      <td>1933</td>\n",
       "    </tr>\n",
       "    <tr>\n",
       "      <th>32</th>\n",
       "      <td>8</td>\n",
       "      <td>35</td>\n",
       "      <td>1</td>\n",
       "      <td>0</td>\n",
       "      <td>1</td>\n",
       "      <td>0</td>\n",
       "      <td>1933</td>\n",
       "    </tr>\n",
       "    <tr>\n",
       "      <th>33</th>\n",
       "      <td>8</td>\n",
       "      <td>35</td>\n",
       "      <td>1</td>\n",
       "      <td>0</td>\n",
       "      <td>0</td>\n",
       "      <td>0</td>\n",
       "      <td>1934</td>\n",
       "    </tr>\n",
       "    <tr>\n",
       "      <th>34</th>\n",
       "      <td>8</td>\n",
       "      <td>35</td>\n",
       "      <td>0</td>\n",
       "      <td>1</td>\n",
       "      <td>0</td>\n",
       "      <td>1</td>\n",
       "      <td>1935</td>\n",
       "    </tr>\n",
       "    <tr>\n",
       "      <th>35</th>\n",
       "      <td>8</td>\n",
       "      <td>35</td>\n",
       "      <td>0</td>\n",
       "      <td>1</td>\n",
       "      <td>0</td>\n",
       "      <td>1</td>\n",
       "      <td>1938</td>\n",
       "    </tr>\n",
       "    <tr>\n",
       "      <th>68</th>\n",
       "      <td>2</td>\n",
       "      <td>8</td>\n",
       "      <td>0</td>\n",
       "      <td>1</td>\n",
       "      <td>1</td>\n",
       "      <td>1</td>\n",
       "      <td>1920</td>\n",
       "    </tr>\n",
       "    <tr>\n",
       "      <th>69</th>\n",
       "      <td>2</td>\n",
       "      <td>8</td>\n",
       "      <td>1</td>\n",
       "      <td>1</td>\n",
       "      <td>0</td>\n",
       "      <td>0</td>\n",
       "      <td>1922</td>\n",
       "    </tr>\n",
       "    <tr>\n",
       "      <th>70</th>\n",
       "      <td>2</td>\n",
       "      <td>8</td>\n",
       "      <td>0</td>\n",
       "      <td>1</td>\n",
       "      <td>0</td>\n",
       "      <td>0</td>\n",
       "      <td>1925</td>\n",
       "    </tr>\n",
       "    <tr>\n",
       "      <th>71</th>\n",
       "      <td>2</td>\n",
       "      <td>8</td>\n",
       "      <td>1</td>\n",
       "      <td>0</td>\n",
       "      <td>0</td>\n",
       "      <td>0</td>\n",
       "      <td>1925</td>\n",
       "    </tr>\n",
       "    <tr>\n",
       "      <th>72</th>\n",
       "      <td>2</td>\n",
       "      <td>8</td>\n",
       "      <td>1</td>\n",
       "      <td>0</td>\n",
       "      <td>0</td>\n",
       "      <td>0</td>\n",
       "      <td>1926</td>\n",
       "    </tr>\n",
       "    <tr>\n",
       "      <th>73</th>\n",
       "      <td>2</td>\n",
       "      <td>8</td>\n",
       "      <td>1</td>\n",
       "      <td>0</td>\n",
       "      <td>0</td>\n",
       "      <td>1</td>\n",
       "      <td>1926</td>\n",
       "    </tr>\n",
       "    <tr>\n",
       "      <th>74</th>\n",
       "      <td>2</td>\n",
       "      <td>8</td>\n",
       "      <td>0</td>\n",
       "      <td>0</td>\n",
       "      <td>0</td>\n",
       "      <td>1</td>\n",
       "      <td>1927</td>\n",
       "    </tr>\n",
       "    <tr>\n",
       "      <th>75</th>\n",
       "      <td>2</td>\n",
       "      <td>8</td>\n",
       "      <td>0</td>\n",
       "      <td>0</td>\n",
       "      <td>0</td>\n",
       "      <td>1</td>\n",
       "      <td>1928</td>\n",
       "    </tr>\n",
       "    <tr>\n",
       "      <th>76</th>\n",
       "      <td>2</td>\n",
       "      <td>8</td>\n",
       "      <td>1</td>\n",
       "      <td>1</td>\n",
       "      <td>0</td>\n",
       "      <td>0</td>\n",
       "      <td>1928</td>\n",
       "    </tr>\n",
       "    <tr>\n",
       "      <th>77</th>\n",
       "      <td>2</td>\n",
       "      <td>8</td>\n",
       "      <td>1</td>\n",
       "      <td>0</td>\n",
       "      <td>0</td>\n",
       "      <td>0</td>\n",
       "      <td>1928</td>\n",
       "    </tr>\n",
       "    <tr>\n",
       "      <th>78</th>\n",
       "      <td>2</td>\n",
       "      <td>8</td>\n",
       "      <td>0</td>\n",
       "      <td>0</td>\n",
       "      <td>0</td>\n",
       "      <td>1</td>\n",
       "      <td>1928</td>\n",
       "    </tr>\n",
       "    <tr>\n",
       "      <th>79</th>\n",
       "      <td>2</td>\n",
       "      <td>8</td>\n",
       "      <td>0</td>\n",
       "      <td>1</td>\n",
       "      <td>0</td>\n",
       "      <td>1</td>\n",
       "      <td>1933</td>\n",
       "    </tr>\n",
       "    <tr>\n",
       "      <th>80</th>\n",
       "      <td>2</td>\n",
       "      <td>8</td>\n",
       "      <td>0</td>\n",
       "      <td>0</td>\n",
       "      <td>0</td>\n",
       "      <td>1</td>\n",
       "      <td>1936</td>\n",
       "    </tr>\n",
       "    <tr>\n",
       "      <th>81</th>\n",
       "      <td>2</td>\n",
       "      <td>8</td>\n",
       "      <td>0</td>\n",
       "      <td>0</td>\n",
       "      <td>0</td>\n",
       "      <td>1</td>\n",
       "      <td>1938</td>\n",
       "    </tr>\n",
       "    <tr>\n",
       "      <th>82</th>\n",
       "      <td>2</td>\n",
       "      <td>8</td>\n",
       "      <td>0</td>\n",
       "      <td>0</td>\n",
       "      <td>0</td>\n",
       "      <td>1</td>\n",
       "      <td>1939</td>\n",
       "    </tr>\n",
       "    <tr>\n",
       "      <th>...</th>\n",
       "      <td>...</td>\n",
       "      <td>...</td>\n",
       "      <td>...</td>\n",
       "      <td>...</td>\n",
       "      <td>...</td>\n",
       "      <td>...</td>\n",
       "      <td>...</td>\n",
       "    </tr>\n",
       "    <tr>\n",
       "      <th>3936</th>\n",
       "      <td>5</td>\n",
       "      <td>9</td>\n",
       "      <td>0</td>\n",
       "      <td>1</td>\n",
       "      <td>0</td>\n",
       "      <td>1</td>\n",
       "      <td>1922</td>\n",
       "    </tr>\n",
       "    <tr>\n",
       "      <th>3937</th>\n",
       "      <td>5</td>\n",
       "      <td>9</td>\n",
       "      <td>1</td>\n",
       "      <td>0</td>\n",
       "      <td>0</td>\n",
       "      <td>0</td>\n",
       "      <td>1922</td>\n",
       "    </tr>\n",
       "    <tr>\n",
       "      <th>3938</th>\n",
       "      <td>5</td>\n",
       "      <td>9</td>\n",
       "      <td>1</td>\n",
       "      <td>1</td>\n",
       "      <td>0</td>\n",
       "      <td>1</td>\n",
       "      <td>1922</td>\n",
       "    </tr>\n",
       "    <tr>\n",
       "      <th>3939</th>\n",
       "      <td>5</td>\n",
       "      <td>9</td>\n",
       "      <td>1</td>\n",
       "      <td>0</td>\n",
       "      <td>0</td>\n",
       "      <td>1</td>\n",
       "      <td>1924</td>\n",
       "    </tr>\n",
       "    <tr>\n",
       "      <th>3940</th>\n",
       "      <td>5</td>\n",
       "      <td>9</td>\n",
       "      <td>1</td>\n",
       "      <td>1</td>\n",
       "      <td>0</td>\n",
       "      <td>1</td>\n",
       "      <td>1926</td>\n",
       "    </tr>\n",
       "    <tr>\n",
       "      <th>3941</th>\n",
       "      <td>5</td>\n",
       "      <td>9</td>\n",
       "      <td>0</td>\n",
       "      <td>1</td>\n",
       "      <td>0</td>\n",
       "      <td>1</td>\n",
       "      <td>1926</td>\n",
       "    </tr>\n",
       "    <tr>\n",
       "      <th>3942</th>\n",
       "      <td>5</td>\n",
       "      <td>9</td>\n",
       "      <td>1</td>\n",
       "      <td>1</td>\n",
       "      <td>0</td>\n",
       "      <td>1</td>\n",
       "      <td>1928</td>\n",
       "    </tr>\n",
       "    <tr>\n",
       "      <th>3943</th>\n",
       "      <td>5</td>\n",
       "      <td>9</td>\n",
       "      <td>0</td>\n",
       "      <td>1</td>\n",
       "      <td>0</td>\n",
       "      <td>1</td>\n",
       "      <td>1928</td>\n",
       "    </tr>\n",
       "    <tr>\n",
       "      <th>3944</th>\n",
       "      <td>5</td>\n",
       "      <td>9</td>\n",
       "      <td>0</td>\n",
       "      <td>1</td>\n",
       "      <td>0</td>\n",
       "      <td>1</td>\n",
       "      <td>1928</td>\n",
       "    </tr>\n",
       "    <tr>\n",
       "      <th>3945</th>\n",
       "      <td>5</td>\n",
       "      <td>9</td>\n",
       "      <td>0</td>\n",
       "      <td>1</td>\n",
       "      <td>0</td>\n",
       "      <td>1</td>\n",
       "      <td>1931</td>\n",
       "    </tr>\n",
       "    <tr>\n",
       "      <th>3946</th>\n",
       "      <td>5</td>\n",
       "      <td>9</td>\n",
       "      <td>1</td>\n",
       "      <td>1</td>\n",
       "      <td>0</td>\n",
       "      <td>1</td>\n",
       "      <td>1931</td>\n",
       "    </tr>\n",
       "    <tr>\n",
       "      <th>3947</th>\n",
       "      <td>5</td>\n",
       "      <td>9</td>\n",
       "      <td>1</td>\n",
       "      <td>0</td>\n",
       "      <td>0</td>\n",
       "      <td>0</td>\n",
       "      <td>1931</td>\n",
       "    </tr>\n",
       "    <tr>\n",
       "      <th>3948</th>\n",
       "      <td>5</td>\n",
       "      <td>9</td>\n",
       "      <td>0</td>\n",
       "      <td>1</td>\n",
       "      <td>0</td>\n",
       "      <td>1</td>\n",
       "      <td>1931</td>\n",
       "    </tr>\n",
       "    <tr>\n",
       "      <th>3949</th>\n",
       "      <td>5</td>\n",
       "      <td>9</td>\n",
       "      <td>1</td>\n",
       "      <td>1</td>\n",
       "      <td>0</td>\n",
       "      <td>1</td>\n",
       "      <td>1932</td>\n",
       "    </tr>\n",
       "    <tr>\n",
       "      <th>3950</th>\n",
       "      <td>5</td>\n",
       "      <td>9</td>\n",
       "      <td>0</td>\n",
       "      <td>1</td>\n",
       "      <td>0</td>\n",
       "      <td>1</td>\n",
       "      <td>1934</td>\n",
       "    </tr>\n",
       "    <tr>\n",
       "      <th>3951</th>\n",
       "      <td>5</td>\n",
       "      <td>9</td>\n",
       "      <td>1</td>\n",
       "      <td>1</td>\n",
       "      <td>0</td>\n",
       "      <td>1</td>\n",
       "      <td>1934</td>\n",
       "    </tr>\n",
       "    <tr>\n",
       "      <th>3952</th>\n",
       "      <td>5</td>\n",
       "      <td>9</td>\n",
       "      <td>0</td>\n",
       "      <td>1</td>\n",
       "      <td>0</td>\n",
       "      <td>1</td>\n",
       "      <td>1934</td>\n",
       "    </tr>\n",
       "    <tr>\n",
       "      <th>3953</th>\n",
       "      <td>5</td>\n",
       "      <td>9</td>\n",
       "      <td>1</td>\n",
       "      <td>0</td>\n",
       "      <td>0</td>\n",
       "      <td>1</td>\n",
       "      <td>1935</td>\n",
       "    </tr>\n",
       "    <tr>\n",
       "      <th>3954</th>\n",
       "      <td>5</td>\n",
       "      <td>9</td>\n",
       "      <td>1</td>\n",
       "      <td>1</td>\n",
       "      <td>0</td>\n",
       "      <td>1</td>\n",
       "      <td>1937</td>\n",
       "    </tr>\n",
       "    <tr>\n",
       "      <th>3955</th>\n",
       "      <td>5</td>\n",
       "      <td>9</td>\n",
       "      <td>1</td>\n",
       "      <td>1</td>\n",
       "      <td>0</td>\n",
       "      <td>1</td>\n",
       "      <td>1937</td>\n",
       "    </tr>\n",
       "    <tr>\n",
       "      <th>3956</th>\n",
       "      <td>5</td>\n",
       "      <td>9</td>\n",
       "      <td>1</td>\n",
       "      <td>1</td>\n",
       "      <td>0</td>\n",
       "      <td>0</td>\n",
       "      <td>1939</td>\n",
       "    </tr>\n",
       "    <tr>\n",
       "      <th>3980</th>\n",
       "      <td>7</td>\n",
       "      <td>40</td>\n",
       "      <td>0</td>\n",
       "      <td>1</td>\n",
       "      <td>0</td>\n",
       "      <td>1</td>\n",
       "      <td>1921</td>\n",
       "    </tr>\n",
       "    <tr>\n",
       "      <th>3981</th>\n",
       "      <td>7</td>\n",
       "      <td>40</td>\n",
       "      <td>1</td>\n",
       "      <td>0</td>\n",
       "      <td>0</td>\n",
       "      <td>0</td>\n",
       "      <td>1922</td>\n",
       "    </tr>\n",
       "    <tr>\n",
       "      <th>3982</th>\n",
       "      <td>7</td>\n",
       "      <td>40</td>\n",
       "      <td>0</td>\n",
       "      <td>1</td>\n",
       "      <td>0</td>\n",
       "      <td>1</td>\n",
       "      <td>1923</td>\n",
       "    </tr>\n",
       "    <tr>\n",
       "      <th>3983</th>\n",
       "      <td>7</td>\n",
       "      <td>40</td>\n",
       "      <td>1</td>\n",
       "      <td>0</td>\n",
       "      <td>0</td>\n",
       "      <td>1</td>\n",
       "      <td>1926</td>\n",
       "    </tr>\n",
       "    <tr>\n",
       "      <th>3984</th>\n",
       "      <td>7</td>\n",
       "      <td>40</td>\n",
       "      <td>1</td>\n",
       "      <td>0</td>\n",
       "      <td>0</td>\n",
       "      <td>0</td>\n",
       "      <td>1927</td>\n",
       "    </tr>\n",
       "    <tr>\n",
       "      <th>3985</th>\n",
       "      <td>7</td>\n",
       "      <td>40</td>\n",
       "      <td>0</td>\n",
       "      <td>1</td>\n",
       "      <td>0</td>\n",
       "      <td>1</td>\n",
       "      <td>1930</td>\n",
       "    </tr>\n",
       "    <tr>\n",
       "      <th>3986</th>\n",
       "      <td>7</td>\n",
       "      <td>40</td>\n",
       "      <td>0</td>\n",
       "      <td>0</td>\n",
       "      <td>0</td>\n",
       "      <td>1</td>\n",
       "      <td>1932</td>\n",
       "    </tr>\n",
       "    <tr>\n",
       "      <th>3987</th>\n",
       "      <td>7</td>\n",
       "      <td>40</td>\n",
       "      <td>0</td>\n",
       "      <td>0</td>\n",
       "      <td>0</td>\n",
       "      <td>1</td>\n",
       "      <td>1935</td>\n",
       "    </tr>\n",
       "    <tr>\n",
       "      <th>3988</th>\n",
       "      <td>7</td>\n",
       "      <td>40</td>\n",
       "      <td>0</td>\n",
       "      <td>1</td>\n",
       "      <td>0</td>\n",
       "      <td>1</td>\n",
       "      <td>1940</td>\n",
       "    </tr>\n",
       "  </tbody>\n",
       "</table>\n",
       "<p>1115 rows × 7 columns</p>\n",
       "</div>"
      ],
      "text/plain": [
       "      village_lang_int  village_int  female  close_multiling  far_multiling  \\\n",
       "21                   8           35       0                1              1   \n",
       "22                   8           35       0                1              1   \n",
       "23                   8           35       1                0              0   \n",
       "24                   8           35       0                1              0   \n",
       "25                   8           35       0                1              0   \n",
       "26                   8           35       0                1              1   \n",
       "27                   8           35       0                1              0   \n",
       "28                   8           35       1                0              0   \n",
       "29                   8           35       1                1              0   \n",
       "30                   8           35       1                0              0   \n",
       "31                   8           35       1                2              0   \n",
       "32                   8           35       1                0              1   \n",
       "33                   8           35       1                0              0   \n",
       "34                   8           35       0                1              0   \n",
       "35                   8           35       0                1              0   \n",
       "68                   2            8       0                1              1   \n",
       "69                   2            8       1                1              0   \n",
       "70                   2            8       0                1              0   \n",
       "71                   2            8       1                0              0   \n",
       "72                   2            8       1                0              0   \n",
       "73                   2            8       1                0              0   \n",
       "74                   2            8       0                0              0   \n",
       "75                   2            8       0                0              0   \n",
       "76                   2            8       1                1              0   \n",
       "77                   2            8       1                0              0   \n",
       "78                   2            8       0                0              0   \n",
       "79                   2            8       0                1              0   \n",
       "80                   2            8       0                0              0   \n",
       "81                   2            8       0                0              0   \n",
       "82                   2            8       0                0              0   \n",
       "...                ...          ...     ...              ...            ...   \n",
       "3936                 5            9       0                1              0   \n",
       "3937                 5            9       1                0              0   \n",
       "3938                 5            9       1                1              0   \n",
       "3939                 5            9       1                0              0   \n",
       "3940                 5            9       1                1              0   \n",
       "3941                 5            9       0                1              0   \n",
       "3942                 5            9       1                1              0   \n",
       "3943                 5            9       0                1              0   \n",
       "3944                 5            9       0                1              0   \n",
       "3945                 5            9       0                1              0   \n",
       "3946                 5            9       1                1              0   \n",
       "3947                 5            9       1                0              0   \n",
       "3948                 5            9       0                1              0   \n",
       "3949                 5            9       1                1              0   \n",
       "3950                 5            9       0                1              0   \n",
       "3951                 5            9       1                1              0   \n",
       "3952                 5            9       0                1              0   \n",
       "3953                 5            9       1                0              0   \n",
       "3954                 5            9       1                1              0   \n",
       "3955                 5            9       1                1              0   \n",
       "3956                 5            9       1                1              0   \n",
       "3980                 7           40       0                1              0   \n",
       "3981                 7           40       1                0              0   \n",
       "3982                 7           40       0                1              0   \n",
       "3983                 7           40       1                0              0   \n",
       "3984                 7           40       1                0              0   \n",
       "3985                 7           40       0                1              0   \n",
       "3986                 7           40       0                0              0   \n",
       "3987                 7           40       0                0              0   \n",
       "3988                 7           40       0                1              0   \n",
       "\n",
       "      rus  year_of_birth  \n",
       "21      1           1927  \n",
       "22      1           1930  \n",
       "23      0           1931  \n",
       "24      1           1931  \n",
       "25      1           1931  \n",
       "26      1           1931  \n",
       "27      1           1932  \n",
       "28      1           1932  \n",
       "29      1           1933  \n",
       "30      0           1933  \n",
       "31      1           1933  \n",
       "32      0           1933  \n",
       "33      0           1934  \n",
       "34      1           1935  \n",
       "35      1           1938  \n",
       "68      1           1920  \n",
       "69      0           1922  \n",
       "70      0           1925  \n",
       "71      0           1925  \n",
       "72      0           1926  \n",
       "73      1           1926  \n",
       "74      1           1927  \n",
       "75      1           1928  \n",
       "76      0           1928  \n",
       "77      0           1928  \n",
       "78      1           1928  \n",
       "79      1           1933  \n",
       "80      1           1936  \n",
       "81      1           1938  \n",
       "82      1           1939  \n",
       "...   ...            ...  \n",
       "3936    1           1922  \n",
       "3937    0           1922  \n",
       "3938    1           1922  \n",
       "3939    1           1924  \n",
       "3940    1           1926  \n",
       "3941    1           1926  \n",
       "3942    1           1928  \n",
       "3943    1           1928  \n",
       "3944    1           1928  \n",
       "3945    1           1931  \n",
       "3946    1           1931  \n",
       "3947    0           1931  \n",
       "3948    1           1931  \n",
       "3949    1           1932  \n",
       "3950    1           1934  \n",
       "3951    1           1934  \n",
       "3952    1           1934  \n",
       "3953    1           1935  \n",
       "3954    1           1937  \n",
       "3955    1           1937  \n",
       "3956    0           1939  \n",
       "3980    1           1921  \n",
       "3981    0           1922  \n",
       "3982    1           1923  \n",
       "3983    1           1926  \n",
       "3984    0           1927  \n",
       "3985    1           1930  \n",
       "3986    1           1932  \n",
       "3987    1           1935  \n",
       "3988    1           1940  \n",
       "\n",
       "[1115 rows x 7 columns]"
      ]
     },
     "execution_count": 219,
     "metadata": {},
     "output_type": "execute_result"
    }
   ],
   "source": [
    "df"
   ]
  },
  {
   "cell_type": "markdown",
   "metadata": {},
   "source": [
    "### Plots"
   ]
  },
  {
   "cell_type": "code",
   "execution_count": 78,
   "metadata": {
    "collapsed": true
   },
   "outputs": [],
   "source": [
    "def split_by_decade(df, n=10):\n",
    "    result = {}\n",
    "    start = min(df['year_of_birth']) - min(df['year_of_birth']) % n\n",
    "    finish = max(df['year_of_birth']) - max(df['year_of_birth']) % n\n",
    "    x = start\n",
    "    while x + n <= finish:\n",
    "        result[x] = df.query('{} < year_of_birth < {}'.format(x, x + n))\n",
    "        x += n\n",
    "    return result"
   ]
  },
  {
   "cell_type": "code",
   "execution_count": 79,
   "metadata": {
    "collapsed": false
   },
   "outputs": [],
   "source": [
    "# years = sorted(set(df['year_of_birth']))\n",
    "# result = {}\n",
    "# for x in years:\n",
    "#    result[x] = df.query('{} == year_of_birth'.format(x))"
   ]
  },
  {
   "cell_type": "code",
   "execution_count": 80,
   "metadata": {
    "collapsed": false
   },
   "outputs": [],
   "source": [
    "decade_split = split_by_decade(df)"
   ]
  },
  {
   "cell_type": "code",
   "execution_count": 83,
   "metadata": {
    "collapsed": false
   },
   "outputs": [],
   "source": [
    "from collections import Counter\n",
    "\n",
    "def df_to_plottable(df, field='close_multiling'):\n",
    "    female = df[df['female'] == 1]\n",
    "    male = df[df['female'] == 0]\n",
    "    female_counter = Counter(list(female[field]))\n",
    "    male_counter = Counter(list(male[field]))\n",
    "#     return male_counter, female_counter\n",
    "    return counter_to_xy(male_counter), counter_to_xy(female_counter)\n",
    "\n",
    "# для всех\n",
    "def df_to_plottable1(df, field='rus'):\n",
    "    female_counter = Counter(list(df[field]))\n",
    "#     return male_counter, female_counter\n",
    "    return counter_to_xy(female_counter)\n",
    "    \n",
    "def counter_to_xy(counter):\n",
    "    xs = [0, 1, 2, 3, 4, 5, 6]\n",
    "    ys = [(counter[x]/(sum(counter.values()) or 1)) for x in xs]\n",
    "    return xs, ys"
   ]
  },
  {
   "cell_type": "code",
   "execution_count": 84,
   "metadata": {
    "collapsed": false
   },
   "outputs": [
    {
     "data": {
      "text/plain": [
       "(([0, 1, 2, 3, 4, 5, 6],\n",
       "  [0.3541666666666667,\n",
       "   0.2916666666666667,\n",
       "   0.3541666666666667,\n",
       "   0.0,\n",
       "   0.0,\n",
       "   0.0,\n",
       "   0.0]),\n",
       " ([0, 1, 2, 3, 4, 5, 6],\n",
       "  [0.7254901960784313,\n",
       "   0.1568627450980392,\n",
       "   0.11764705882352941,\n",
       "   0.0,\n",
       "   0.0,\n",
       "   0.0,\n",
       "   0.0]))"
      ]
     },
     "execution_count": 84,
     "metadata": {},
     "output_type": "execute_result"
    }
   ],
   "source": [
    "df_to_plottable(decade_split[1890])"
   ]
  },
  {
   "cell_type": "code",
   "execution_count": 85,
   "metadata": {
    "collapsed": false
   },
   "outputs": [],
   "source": [
    "\n",
    "import matplotlib as mpl\n",
    "from matplotlib import pyplot as plt\n",
    "import seaborn as sns\n",
    "sns.set_palette(\"hls\") # or \"hls\"\n",
    "sns.set_style(\"whitegrid\")\n",
    "sns.set_context(\"poster\")\n",
    "%matplotlib inline\n",
    "# %pylab inline\n",
    "from pylab import rcParams\n",
    "rcParams['figure.figsize'] = (8, 6)"
   ]
  },
  {
   "cell_type": "code",
   "execution_count": 86,
   "metadata": {
    "collapsed": false
   },
   "outputs": [
    {
     "data": {
      "image/png": "[encoded data removed]",
      "text/plain": [
       "<matplotlib.figure.Figure at 0x10a869dd8>"
      ]
     },
     "metadata": {},
     "output_type": "display_data"
    }
   ],
   "source": [
    "# по декадам отрезает все что равно нулю + 1\n",
    "for x in decade_split:\n",
    "    pm, pf = df_to_plottable(decade_split[x])\n",
    "    plt.clf()\n",
    "    plt.plot(pm[0], pm[1], color='orchid')\n",
    "    plt.plot(pf[0], pf[1], color='teal')\n",
    "    zero = max(pm[1].index(0), pf[1].index(0))\n",
    "    plt.xticks([0,1,2,3,4,5])\n",
    "    plt.xlim(0, zero + 1)\n",
    "    plt.savefig('{}.png'.format(x))"
   ]
  },
  {
   "cell_type": "code",
   "execution_count": 87,
   "metadata": {
    "collapsed": false
   },
   "outputs": [
    {
     "data": {
      "image/png": "[encoded data removed]",
      "text/plain": [
       "<matplotlib.figure.Figure at 0x109d02cf8>"
      ]
     },
     "metadata": {},
     "output_type": "display_data"
    }
   ],
   "source": [
    "# по декадам отрезает все что равно нулю + 1\n",
    "for x in decade_split:\n",
    "    pm, pf = df_to_plottable(decade_split[x])\n",
    "    plt.clf()\n",
    "    plt.bar(np.arange(len(pm[0]))+0.15, pm[1], width=0.2, color=\"teal\", label=\"female\")\n",
    "    plt.bar(np.arange(len(pf[0]))+0.35, pf[1], width=0.2, color=\"orchid\", label=\"male\")\n",
    "    zero = max(pm[1].index(0), pf[1].index(0))\n",
    "    plt.xlim(-0.25, zero+0.75)\n",
    "    plt.xticks(0.25 * makearray(zero), np.arange(1, zero + 2))\n",
    "    plt.savefig('{}.png'.format(x))"
   ]
  },
  {
   "cell_type": "code",
   "execution_count": 108,
   "metadata": {
    "collapsed": false
   },
   "outputs": [
    {
     "data": {
      "image/png": "[encoded data removed]",
      "text/plain": [
       "<matplotlib.figure.Figure at 0x10682bda0>"
      ]
     },
     "metadata": {},
     "output_type": "display_data"
    }
   ],
   "source": [
    "# по всему датафрейму\n",
    "pm, pf = df_to_plottable(df)\n",
    "plt.clf()\n",
    "plt.plot(pm[0], pm[1], color='red')\n",
    "plt.plot(pf[0], pf[1], color='blue')\n",
    "plt.savefig('male_dargwa.png')"
   ]
  },
  {
   "cell_type": "code",
   "execution_count": 109,
   "metadata": {
    "collapsed": false
   },
   "outputs": [
    {
     "data": {
      "image/png": "[encoded data removed]",
      "text/plain": [
       "<matplotlib.figure.Figure at 0x109d57a90>"
      ]
     },
     "metadata": {},
     "output_type": "display_data"
    }
   ],
   "source": [
    "# без гендера\n",
    "pf = df_to_plottable1(df)\n",
    "plt.clf()\n",
    "plt.plot(pf[0], pf[1], color='blue')\n",
    "plt.savefig('pers_nogender_rus.png')"
   ]
  },
  {
   "cell_type": "code",
   "execution_count": 117,
   "metadata": {
    "collapsed": false
   },
   "outputs": [
    {
     "data": {
      "text/plain": [
       "1990"
      ]
     },
     "execution_count": 117,
     "metadata": {},
     "output_type": "execute_result"
    }
   ],
   "source": [
    "1992 - 1992 % 10"
   ]
  },
  {
   "cell_type": "code",
   "execution_count": 45,
   "metadata": {
    "collapsed": false,
    "scrolled": false
   },
   "outputs": [
    {
     "data": {
      "image/png": "[encoded data removed]",
      "text/plain": [
       "<matplotlib.figure.Figure at 0x109c74828>"
      ]
     },
     "metadata": {},
     "output_type": "display_data"
    }
   ],
   "source": [
    "# plt.bar(np.arange(1,len(letternorm)),letternorm[1:], width=0.5, color=\"#FFA600\", label=\"female\")\n",
    "# plt.bar(np.arange(1,len(bibletternorm))+0.5,bibletternorm[1:], width=0.5, color=\"b\", label=\"male\")\n",
    "# plt.set_xticks(np.arange(len(bibletternorm)) + 0.5)\n",
    "# по всему датафрейму\n",
    "import numpy as np\n",
    "pm, pf = df_to_plottable(df)\n",
    "plt.bar(pm[0], pm[1], width=0.5, color=\"#FFA600\", label=\"female\")\n",
    "plt.bar(np.arange(len(pf[0]))+0.5, pf[1], width=0.5, color=\"b\", label=\"male\")\n",
    "zero = max(pm[1].index(0), pf[1].index(0))\n",
    "plt.xlim(-0.25, zero+0.75)\n",
    "plt.xticks(0.25 * makearray(zero), np.arange(1, zero + 2))\n",
    "# plt.set_xticklabels()\n",
    "plt.savefig('male_dargwa.png')"
   ]
  },
  {
   "cell_type": "code",
   "execution_count": 44,
   "metadata": {
    "collapsed": false
   },
   "outputs": [
    {
     "data": {
      "text/plain": [
       "array([1, 2, 3])"
      ]
     },
     "execution_count": 44,
     "metadata": {},
     "output_type": "execute_result"
    }
   ],
   "source": [
    "np.arange(1, zero + 2)"
   ]
  },
  {
   "cell_type": "code",
   "execution_count": 42,
   "metadata": {
    "collapsed": false
   },
   "outputs": [
    {
     "data": {
      "text/plain": [
       "array([1, 5, 9])"
      ]
     },
     "execution_count": 42,
     "metadata": {},
     "output_type": "execute_result"
    }
   ],
   "source": [
    "def makearray(zero):\n",
    "    result = [1]\n",
    "    while len(result) < zero + 1:\n",
    "        result.append(result[-1] + 4)\n",
    "    return np.array(result)\n",
    "\n",
    "makearray(zero)"
   ]
  },
  {
   "cell_type": "code",
   "execution_count": 56,
   "metadata": {
    "collapsed": false
   },
   "outputs": [
    {
     "data": {
      "image/png": "[encoded data removed]",
      "text/plain": [
       "<matplotlib.figure.Figure at 0x109fb3240>"
      ]
     },
     "metadata": {},
     "output_type": "display_data"
    }
   ],
   "source": [
    "# без гендера\n",
    "pf = df_to_plottable1(df)\n",
    "plt.bar(pf[0], pf[1], color='blue')\n",
    "plt.savefig('pers_nogender_rus.png')"
   ]
  },
  {
   "cell_type": "markdown",
   "metadata": {
    "collapsed": true
   },
   "source": [
    "### Classifiers"
   ]
  },
  {
   "cell_type": "code",
   "execution_count": 204,
   "metadata": {
    "collapsed": false
   },
   "outputs": [],
   "source": [
    "from sklearn.model_selection import train_test_split\n",
    "\n",
    "def split_df(df):\n",
    "    \"\"\"returns x_train, x_test, y_train, y_test\"\"\"\n",
    "    y = df['close_multiling']\n",
    "    x = df[list(set(col_list) - {'close_multiling'})].as_matrix()\n",
    "    x_train, x_test, y_train, y_test = train_test_split(x, y, test_size=0.2)\n",
    "    y_train = np.array(y_train)\n",
    "    y_test = np.array(y_test)\n",
    "    return x_train, x_test, y_train, y_test\n",
    "\n",
    "# def split_by_year(df, year):\n",
    "#     return df[df['year_of_birth'] <= year], df[df['year_of_birth'] > year]\n",
    "\n",
    "def check_quality(predictor, x_test, y_test):\n",
    "    predicted = predictor.predict(x_test)\n",
    "    y_test = np.array(y_test)\n",
    "    return sum(int(round(predicted[i]) == round(y_test[i])) for i in range(len(y_test))) / len(y_test)"
   ]
  },
  {
   "cell_type": "code",
   "execution_count": 205,
   "metadata": {
    "collapsed": false
   },
   "outputs": [],
   "source": [
    "x_train, x_test, y_train, y_test = split_df(df)"
   ]
  },
  {
   "cell_type": "code",
   "execution_count": 206,
   "metadata": {
    "collapsed": false
   },
   "outputs": [
    {
     "data": {
      "text/plain": [
       "0.8"
      ]
     },
     "execution_count": 206,
     "metadata": {},
     "output_type": "execute_result"
    }
   ],
   "source": [
    "from sklearn.ensemble import RandomForestClassifier\n",
    "\n",
    "rfc = RandomForestClassifier(n_estimators=700).fit(x_train, y_train)\n",
    "check_quality(rfc, x_test, y_test)\n",
    "\n",
    "# вся выборка — ближнее многоязычие — все факторы 0.81875 ('village_lang_int','village_int','female','close_multiling','far_multiling','rus','year_of_birth') \n",
    "# вся выборка — ближнее многоязычие — без 'village_lang_int','village_int' 0.655\n",
    "# вся выборка — ближнее многоязычие — без 'female' 0.79\n",
    "# вся выборка — ближнее многоязычие — без 'far_multiling' 0.8025\n",
    "# вся выборка — ближнее многоязычие — без 'rus' 0.77875\n",
    "# вся выборка — ближнее многоязычие — без 'year_of_birth' 0.765"
   ]
  },
  {
   "cell_type": "code",
   "execution_count": 207,
   "metadata": {
    "collapsed": false
   },
   "outputs": [
    {
     "name": "stdout",
     "output_type": "stream",
     "text": [
      "      Iter       Train Loss   Remaining Time \n",
      "         1        3376.8380            5.24s\n",
      "         2        3146.4025            5.21s\n",
      "         3        2955.7232            5.39s\n",
      "         4        2796.9416            5.14s\n",
      "         5        2668.5746            5.25s\n",
      "         6        2554.6121            5.18s\n",
      "         7        2454.4202            5.04s\n",
      "         8        2375.5048            4.96s\n",
      "         9        2304.1731            4.87s\n",
      "        10        2242.6903            4.80s\n",
      "        20        1879.8859            4.54s\n",
      "        30        1707.6759            4.28s\n",
      "        40        1592.3492            4.27s\n",
      "        50        1525.0601            4.14s\n",
      "        60        1481.0544            4.06s\n",
      "        70        1453.5398            3.99s\n",
      "        80        1428.9461            3.97s\n",
      "        90        1408.8983            3.86s\n",
      "       100        1394.5101            3.76s\n",
      "       200        1326.3153            3.11s\n",
      "       300        1301.0251            2.43s\n",
      "       400        1287.2452            1.81s\n",
      "       500        1278.1863            1.21s\n",
      "       600        1271.7277            0.61s\n",
      "       700        1266.6809            0.00s\n"
     ]
    },
    {
     "data": {
      "text/plain": [
       "0.8"
      ]
     },
     "execution_count": 207,
     "metadata": {},
     "output_type": "execute_result"
    }
   ],
   "source": [
    "from sklearn.ensemble import GradientBoostingClassifier\n",
    "\n",
    "gbc = GradientBoostingClassifier(n_estimators=700, verbose=True).fit(x_train, y_train)\n",
    "check_quality(gbc, x_test, y_test)\n",
    "# вся выборка — ближнее многоязычие — все факторы 0.82625 ('village_lang_int','village_int','female','close_multiling','far_multiling','rus','year_of_birth') \n",
    "# вся выборка — ближнее многоязычие — без 'village_lang_int','village_int' 0.66125\n",
    "# вся выборка — ближнее многоязычие — без 'female' 0.82\n",
    "# вся выборка — ближнее многоязычие — без 'far_multiling' 0.795\n",
    "# вся выборка — ближнее многоязычие — без 'rus' 0.8275\n",
    "# вся выборка — ближнее многоязычие — без 'year_of_birth' 0.8"
   ]
  },
  {
   "cell_type": "code",
   "execution_count": 12,
   "metadata": {
    "collapsed": false
   },
   "outputs": [
    {
     "data": {
      "text/plain": [
       "0.5294117647058824"
      ]
     },
     "execution_count": 12,
     "metadata": {},
     "output_type": "execute_result"
    }
   ],
   "source": [
    "from sklearn.svm import SVC\n",
    "\n",
    "svc = SVC().fit(x_train, y_train)\n",
    "check_quality(svc, x_test, y_test)"
   ]
  },
  {
   "cell_type": "code",
   "execution_count": 13,
   "metadata": {
    "collapsed": false
   },
   "outputs": [
    {
     "data": {
      "text/plain": [
       "0.48788927335640137"
      ]
     },
     "execution_count": 13,
     "metadata": {},
     "output_type": "execute_result"
    }
   ],
   "source": [
    "from sklearn.neighbors import KNeighborsClassifier\n",
    "\n",
    "knc = KNeighborsClassifier(n_neighbors=3).fit(x_train, y_train)\n",
    "check_quality(knc, x_test, y_test)"
   ]
  },
  {
   "cell_type": "code",
   "execution_count": 17,
   "metadata": {
    "collapsed": false
   },
   "outputs": [
    {
     "data": {
      "text/plain": [
       "0.27335640138408307"
      ]
     },
     "execution_count": 17,
     "metadata": {},
     "output_type": "execute_result"
    }
   ],
   "source": [
    "from sklearn.linear_model import Perceptron\n",
    "\n",
    "p = Perceptron().fit(x_train, y_train)\n",
    "check_quality(p, x_test, y_test)"
   ]
  },
  {
   "cell_type": "code",
   "execution_count": 18,
   "metadata": {
    "collapsed": false
   },
   "outputs": [
    {
     "data": {
      "text/plain": [
       "0.47923875432525953"
      ]
     },
     "execution_count": 18,
     "metadata": {},
     "output_type": "execute_result"
    }
   ],
   "source": [
    "from sklearn.tree import DecisionTreeClassifier\n",
    "\n",
    "dtc = DecisionTreeClassifier().fit(x_train, y_train)\n",
    "check_quality(dtc, x_test, y_test)"
   ]
  }
 ],
 "metadata": {
  "kernelspec": {
   "display_name": "Python 3",
   "language": "python",
   "name": "python3"
  },
  "language_info": {
   "codemirror_mode": {
    "name": "ipython",
    "version": 3
   },
   "file_extension": ".py",
   "mimetype": "text/x-python",
   "name": "python",
   "nbconvert_exporter": "python",
   "pygments_lexer": "ipython3",
   "version": "3.5.2"
  }
 },
 "nbformat": 4,
 "nbformat_minor": 0
}
