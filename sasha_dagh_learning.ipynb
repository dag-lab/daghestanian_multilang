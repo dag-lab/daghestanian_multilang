{
 "cells": [
  {
   "cell_type": "code",
   "execution_count": 791,
   "metadata": {
    "collapsed": true
   },
   "outputs": [],
   "source": [
    "import pandas as pd"
   ]
  },
  {
   "cell_type": "code",
   "execution_count": 944,
   "metadata": {
    "collapsed": false
   },
   "outputs": [],
   "source": [
    "df = pd.DataFrame.from_csv('new_dag_dataset_forscript-out.csv', sep=';', index_col=None)"
   ]
  },
  {
   "cell_type": "code",
   "execution_count": 945,
   "metadata": {
    "collapsed": false
   },
   "outputs": [],
   "source": [
    "# df = df.loc[df['year_of_birth'] < 1920]\n",
    "# df = df.loc[df['year_of_birth'] > 1939]\n",
    "# df = df.loc[(df['year_of_birth'] >= 1920) & (df['year_of_birth'] <= 1940)]\n",
    "df = df.loc[df['village'] == \"chuni\"]\n",
    "# df = df.loc[df['female'] == 0]"
   ]
  },
  {
   "cell_type": "code",
   "execution_count": 946,
   "metadata": {
    "collapsed": false
   },
   "outputs": [],
   "source": [
    "villages = sorted(set(df['village']))\n",
    "vill_dict = {name: i for i, name in enumerate(villages)}\n",
    "village_lang = sorted(set(df['village_lang']))\n",
    "vill_lang_dict = {name: i for i, name in enumerate(village_lang)}"
   ]
  },
  {
   "cell_type": "code",
   "execution_count": 947,
   "metadata": {
    "collapsed": false
   },
   "outputs": [],
   "source": [
    "col_list = ['village_lang_int','village_int','female','close_multiling','far_multiling','rus','year_of_birth','kum']\n",
    "df['village_int'] = df['village'].apply(lambda x: vill_dict[x])\n",
    "df['village_lang_int'] = df['village_lang'].apply(lambda x: vill_lang_dict[x])\n",
    "for x in col_list:\n",
    "    try:\n",
    "        df[x] = df[x].apply(int)\n",
    "    except:\n",
    "        print('failure on {}'.format(x))"
   ]
  },
  {
   "cell_type": "code",
   "execution_count": 948,
   "metadata": {
    "collapsed": false
   },
   "outputs": [],
   "source": [
    "df = df[col_list]"
   ]
  },
  {
   "cell_type": "code",
   "execution_count": 949,
   "metadata": {
    "collapsed": false,
    "scrolled": true
   },
   "outputs": [
    {
     "data": {
      "text/html": [
       "<div>\n",
       "<table border=\"1\" class=\"dataframe\">\n",
       "  <thead>\n",
       "    <tr style=\"text-align: right;\">\n",
       "      <th></th>\n",
       "      <th>village_lang_int</th>\n",
       "      <th>village_int</th>\n",
       "      <th>female</th>\n",
       "      <th>close_multiling</th>\n",
       "      <th>far_multiling</th>\n",
       "      <th>rus</th>\n",
       "      <th>year_of_birth</th>\n",
       "      <th>kum</th>\n",
       "    </tr>\n",
       "  </thead>\n",
       "  <tbody>\n",
       "    <tr>\n",
       "      <th>3201</th>\n",
       "      <td>0</td>\n",
       "      <td>0</td>\n",
       "      <td>0</td>\n",
       "      <td>2</td>\n",
       "      <td>1</td>\n",
       "      <td>0</td>\n",
       "      <td>1850</td>\n",
       "      <td>1</td>\n",
       "    </tr>\n",
       "    <tr>\n",
       "      <th>3202</th>\n",
       "      <td>0</td>\n",
       "      <td>0</td>\n",
       "      <td>0</td>\n",
       "      <td>0</td>\n",
       "      <td>0</td>\n",
       "      <td>0</td>\n",
       "      <td>1870</td>\n",
       "      <td>0</td>\n",
       "    </tr>\n",
       "    <tr>\n",
       "      <th>3203</th>\n",
       "      <td>0</td>\n",
       "      <td>0</td>\n",
       "      <td>0</td>\n",
       "      <td>2</td>\n",
       "      <td>0</td>\n",
       "      <td>0</td>\n",
       "      <td>1870</td>\n",
       "      <td>0</td>\n",
       "    </tr>\n",
       "    <tr>\n",
       "      <th>3204</th>\n",
       "      <td>0</td>\n",
       "      <td>0</td>\n",
       "      <td>1</td>\n",
       "      <td>2</td>\n",
       "      <td>0</td>\n",
       "      <td>0</td>\n",
       "      <td>1873</td>\n",
       "      <td>0</td>\n",
       "    </tr>\n",
       "    <tr>\n",
       "      <th>3205</th>\n",
       "      <td>0</td>\n",
       "      <td>0</td>\n",
       "      <td>0</td>\n",
       "      <td>2</td>\n",
       "      <td>0</td>\n",
       "      <td>0</td>\n",
       "      <td>1880</td>\n",
       "      <td>0</td>\n",
       "    </tr>\n",
       "    <tr>\n",
       "      <th>3206</th>\n",
       "      <td>0</td>\n",
       "      <td>0</td>\n",
       "      <td>0</td>\n",
       "      <td>2</td>\n",
       "      <td>0</td>\n",
       "      <td>0</td>\n",
       "      <td>1884</td>\n",
       "      <td>0</td>\n",
       "    </tr>\n",
       "    <tr>\n",
       "      <th>3207</th>\n",
       "      <td>0</td>\n",
       "      <td>0</td>\n",
       "      <td>0</td>\n",
       "      <td>2</td>\n",
       "      <td>1</td>\n",
       "      <td>0</td>\n",
       "      <td>1886</td>\n",
       "      <td>1</td>\n",
       "    </tr>\n",
       "    <tr>\n",
       "      <th>3208</th>\n",
       "      <td>0</td>\n",
       "      <td>0</td>\n",
       "      <td>0</td>\n",
       "      <td>2</td>\n",
       "      <td>0</td>\n",
       "      <td>1</td>\n",
       "      <td>1891</td>\n",
       "      <td>0</td>\n",
       "    </tr>\n",
       "    <tr>\n",
       "      <th>3209</th>\n",
       "      <td>0</td>\n",
       "      <td>0</td>\n",
       "      <td>0</td>\n",
       "      <td>2</td>\n",
       "      <td>1</td>\n",
       "      <td>1</td>\n",
       "      <td>1893</td>\n",
       "      <td>0</td>\n",
       "    </tr>\n",
       "    <tr>\n",
       "      <th>3210</th>\n",
       "      <td>0</td>\n",
       "      <td>0</td>\n",
       "      <td>1</td>\n",
       "      <td>2</td>\n",
       "      <td>0</td>\n",
       "      <td>0</td>\n",
       "      <td>1893</td>\n",
       "      <td>0</td>\n",
       "    </tr>\n",
       "    <tr>\n",
       "      <th>3211</th>\n",
       "      <td>0</td>\n",
       "      <td>0</td>\n",
       "      <td>0</td>\n",
       "      <td>2</td>\n",
       "      <td>1</td>\n",
       "      <td>1</td>\n",
       "      <td>1896</td>\n",
       "      <td>1</td>\n",
       "    </tr>\n",
       "    <tr>\n",
       "      <th>3212</th>\n",
       "      <td>0</td>\n",
       "      <td>0</td>\n",
       "      <td>0</td>\n",
       "      <td>2</td>\n",
       "      <td>1</td>\n",
       "      <td>0</td>\n",
       "      <td>1896</td>\n",
       "      <td>1</td>\n",
       "    </tr>\n",
       "    <tr>\n",
       "      <th>3213</th>\n",
       "      <td>0</td>\n",
       "      <td>0</td>\n",
       "      <td>1</td>\n",
       "      <td>2</td>\n",
       "      <td>0</td>\n",
       "      <td>1</td>\n",
       "      <td>1898</td>\n",
       "      <td>0</td>\n",
       "    </tr>\n",
       "    <tr>\n",
       "      <th>3214</th>\n",
       "      <td>0</td>\n",
       "      <td>0</td>\n",
       "      <td>0</td>\n",
       "      <td>2</td>\n",
       "      <td>1</td>\n",
       "      <td>1</td>\n",
       "      <td>1899</td>\n",
       "      <td>1</td>\n",
       "    </tr>\n",
       "    <tr>\n",
       "      <th>3215</th>\n",
       "      <td>0</td>\n",
       "      <td>0</td>\n",
       "      <td>0</td>\n",
       "      <td>2</td>\n",
       "      <td>0</td>\n",
       "      <td>1</td>\n",
       "      <td>1900</td>\n",
       "      <td>0</td>\n",
       "    </tr>\n",
       "    <tr>\n",
       "      <th>3216</th>\n",
       "      <td>0</td>\n",
       "      <td>0</td>\n",
       "      <td>0</td>\n",
       "      <td>2</td>\n",
       "      <td>2</td>\n",
       "      <td>1</td>\n",
       "      <td>1900</td>\n",
       "      <td>1</td>\n",
       "    </tr>\n",
       "    <tr>\n",
       "      <th>3217</th>\n",
       "      <td>0</td>\n",
       "      <td>0</td>\n",
       "      <td>0</td>\n",
       "      <td>2</td>\n",
       "      <td>0</td>\n",
       "      <td>0</td>\n",
       "      <td>1900</td>\n",
       "      <td>0</td>\n",
       "    </tr>\n",
       "    <tr>\n",
       "      <th>3218</th>\n",
       "      <td>0</td>\n",
       "      <td>0</td>\n",
       "      <td>1</td>\n",
       "      <td>2</td>\n",
       "      <td>1</td>\n",
       "      <td>0</td>\n",
       "      <td>1900</td>\n",
       "      <td>0</td>\n",
       "    </tr>\n",
       "    <tr>\n",
       "      <th>3219</th>\n",
       "      <td>0</td>\n",
       "      <td>0</td>\n",
       "      <td>1</td>\n",
       "      <td>2</td>\n",
       "      <td>0</td>\n",
       "      <td>0</td>\n",
       "      <td>1901</td>\n",
       "      <td>0</td>\n",
       "    </tr>\n",
       "    <tr>\n",
       "      <th>3220</th>\n",
       "      <td>0</td>\n",
       "      <td>0</td>\n",
       "      <td>0</td>\n",
       "      <td>2</td>\n",
       "      <td>1</td>\n",
       "      <td>1</td>\n",
       "      <td>1902</td>\n",
       "      <td>1</td>\n",
       "    </tr>\n",
       "    <tr>\n",
       "      <th>3221</th>\n",
       "      <td>0</td>\n",
       "      <td>0</td>\n",
       "      <td>0</td>\n",
       "      <td>2</td>\n",
       "      <td>2</td>\n",
       "      <td>1</td>\n",
       "      <td>1902</td>\n",
       "      <td>1</td>\n",
       "    </tr>\n",
       "    <tr>\n",
       "      <th>3222</th>\n",
       "      <td>0</td>\n",
       "      <td>0</td>\n",
       "      <td>0</td>\n",
       "      <td>2</td>\n",
       "      <td>0</td>\n",
       "      <td>0</td>\n",
       "      <td>1905</td>\n",
       "      <td>0</td>\n",
       "    </tr>\n",
       "    <tr>\n",
       "      <th>3223</th>\n",
       "      <td>0</td>\n",
       "      <td>0</td>\n",
       "      <td>0</td>\n",
       "      <td>2</td>\n",
       "      <td>2</td>\n",
       "      <td>1</td>\n",
       "      <td>1906</td>\n",
       "      <td>0</td>\n",
       "    </tr>\n",
       "    <tr>\n",
       "      <th>3224</th>\n",
       "      <td>0</td>\n",
       "      <td>0</td>\n",
       "      <td>1</td>\n",
       "      <td>2</td>\n",
       "      <td>0</td>\n",
       "      <td>1</td>\n",
       "      <td>1906</td>\n",
       "      <td>0</td>\n",
       "    </tr>\n",
       "    <tr>\n",
       "      <th>3225</th>\n",
       "      <td>0</td>\n",
       "      <td>0</td>\n",
       "      <td>1</td>\n",
       "      <td>2</td>\n",
       "      <td>0</td>\n",
       "      <td>1</td>\n",
       "      <td>1906</td>\n",
       "      <td>0</td>\n",
       "    </tr>\n",
       "    <tr>\n",
       "      <th>3226</th>\n",
       "      <td>0</td>\n",
       "      <td>0</td>\n",
       "      <td>1</td>\n",
       "      <td>2</td>\n",
       "      <td>0</td>\n",
       "      <td>0</td>\n",
       "      <td>1907</td>\n",
       "      <td>0</td>\n",
       "    </tr>\n",
       "    <tr>\n",
       "      <th>3227</th>\n",
       "      <td>0</td>\n",
       "      <td>0</td>\n",
       "      <td>1</td>\n",
       "      <td>2</td>\n",
       "      <td>0</td>\n",
       "      <td>0</td>\n",
       "      <td>1908</td>\n",
       "      <td>0</td>\n",
       "    </tr>\n",
       "    <tr>\n",
       "      <th>3228</th>\n",
       "      <td>0</td>\n",
       "      <td>0</td>\n",
       "      <td>1</td>\n",
       "      <td>2</td>\n",
       "      <td>0</td>\n",
       "      <td>1</td>\n",
       "      <td>1908</td>\n",
       "      <td>0</td>\n",
       "    </tr>\n",
       "    <tr>\n",
       "      <th>3229</th>\n",
       "      <td>0</td>\n",
       "      <td>0</td>\n",
       "      <td>0</td>\n",
       "      <td>2</td>\n",
       "      <td>1</td>\n",
       "      <td>0</td>\n",
       "      <td>1909</td>\n",
       "      <td>0</td>\n",
       "    </tr>\n",
       "    <tr>\n",
       "      <th>3230</th>\n",
       "      <td>0</td>\n",
       "      <td>0</td>\n",
       "      <td>1</td>\n",
       "      <td>2</td>\n",
       "      <td>0</td>\n",
       "      <td>0</td>\n",
       "      <td>1910</td>\n",
       "      <td>0</td>\n",
       "    </tr>\n",
       "    <tr>\n",
       "      <th>...</th>\n",
       "      <td>...</td>\n",
       "      <td>...</td>\n",
       "      <td>...</td>\n",
       "      <td>...</td>\n",
       "      <td>...</td>\n",
       "      <td>...</td>\n",
       "      <td>...</td>\n",
       "      <td>...</td>\n",
       "    </tr>\n",
       "    <tr>\n",
       "      <th>3409</th>\n",
       "      <td>0</td>\n",
       "      <td>0</td>\n",
       "      <td>0</td>\n",
       "      <td>0</td>\n",
       "      <td>0</td>\n",
       "      <td>1</td>\n",
       "      <td>1989</td>\n",
       "      <td>0</td>\n",
       "    </tr>\n",
       "    <tr>\n",
       "      <th>3410</th>\n",
       "      <td>0</td>\n",
       "      <td>0</td>\n",
       "      <td>1</td>\n",
       "      <td>0</td>\n",
       "      <td>0</td>\n",
       "      <td>1</td>\n",
       "      <td>1990</td>\n",
       "      <td>0</td>\n",
       "    </tr>\n",
       "    <tr>\n",
       "      <th>3411</th>\n",
       "      <td>0</td>\n",
       "      <td>0</td>\n",
       "      <td>1</td>\n",
       "      <td>0</td>\n",
       "      <td>0</td>\n",
       "      <td>1</td>\n",
       "      <td>1990</td>\n",
       "      <td>0</td>\n",
       "    </tr>\n",
       "    <tr>\n",
       "      <th>3412</th>\n",
       "      <td>0</td>\n",
       "      <td>0</td>\n",
       "      <td>0</td>\n",
       "      <td>0</td>\n",
       "      <td>0</td>\n",
       "      <td>1</td>\n",
       "      <td>1990</td>\n",
       "      <td>0</td>\n",
       "    </tr>\n",
       "    <tr>\n",
       "      <th>3413</th>\n",
       "      <td>0</td>\n",
       "      <td>0</td>\n",
       "      <td>0</td>\n",
       "      <td>0</td>\n",
       "      <td>0</td>\n",
       "      <td>1</td>\n",
       "      <td>1990</td>\n",
       "      <td>0</td>\n",
       "    </tr>\n",
       "    <tr>\n",
       "      <th>3414</th>\n",
       "      <td>0</td>\n",
       "      <td>0</td>\n",
       "      <td>0</td>\n",
       "      <td>0</td>\n",
       "      <td>0</td>\n",
       "      <td>1</td>\n",
       "      <td>1990</td>\n",
       "      <td>0</td>\n",
       "    </tr>\n",
       "    <tr>\n",
       "      <th>3415</th>\n",
       "      <td>0</td>\n",
       "      <td>0</td>\n",
       "      <td>0</td>\n",
       "      <td>0</td>\n",
       "      <td>0</td>\n",
       "      <td>1</td>\n",
       "      <td>1991</td>\n",
       "      <td>0</td>\n",
       "    </tr>\n",
       "    <tr>\n",
       "      <th>3416</th>\n",
       "      <td>0</td>\n",
       "      <td>0</td>\n",
       "      <td>1</td>\n",
       "      <td>0</td>\n",
       "      <td>0</td>\n",
       "      <td>1</td>\n",
       "      <td>1992</td>\n",
       "      <td>0</td>\n",
       "    </tr>\n",
       "    <tr>\n",
       "      <th>3417</th>\n",
       "      <td>0</td>\n",
       "      <td>0</td>\n",
       "      <td>0</td>\n",
       "      <td>1</td>\n",
       "      <td>0</td>\n",
       "      <td>1</td>\n",
       "      <td>1993</td>\n",
       "      <td>0</td>\n",
       "    </tr>\n",
       "    <tr>\n",
       "      <th>3418</th>\n",
       "      <td>0</td>\n",
       "      <td>0</td>\n",
       "      <td>1</td>\n",
       "      <td>0</td>\n",
       "      <td>0</td>\n",
       "      <td>1</td>\n",
       "      <td>1993</td>\n",
       "      <td>0</td>\n",
       "    </tr>\n",
       "    <tr>\n",
       "      <th>3419</th>\n",
       "      <td>0</td>\n",
       "      <td>0</td>\n",
       "      <td>0</td>\n",
       "      <td>1</td>\n",
       "      <td>0</td>\n",
       "      <td>1</td>\n",
       "      <td>1994</td>\n",
       "      <td>0</td>\n",
       "    </tr>\n",
       "    <tr>\n",
       "      <th>3420</th>\n",
       "      <td>0</td>\n",
       "      <td>0</td>\n",
       "      <td>1</td>\n",
       "      <td>0</td>\n",
       "      <td>0</td>\n",
       "      <td>1</td>\n",
       "      <td>1995</td>\n",
       "      <td>0</td>\n",
       "    </tr>\n",
       "    <tr>\n",
       "      <th>3421</th>\n",
       "      <td>0</td>\n",
       "      <td>0</td>\n",
       "      <td>0</td>\n",
       "      <td>0</td>\n",
       "      <td>0</td>\n",
       "      <td>1</td>\n",
       "      <td>1996</td>\n",
       "      <td>0</td>\n",
       "    </tr>\n",
       "    <tr>\n",
       "      <th>3422</th>\n",
       "      <td>0</td>\n",
       "      <td>0</td>\n",
       "      <td>0</td>\n",
       "      <td>0</td>\n",
       "      <td>0</td>\n",
       "      <td>1</td>\n",
       "      <td>1996</td>\n",
       "      <td>0</td>\n",
       "    </tr>\n",
       "    <tr>\n",
       "      <th>3423</th>\n",
       "      <td>0</td>\n",
       "      <td>0</td>\n",
       "      <td>1</td>\n",
       "      <td>0</td>\n",
       "      <td>0</td>\n",
       "      <td>1</td>\n",
       "      <td>1996</td>\n",
       "      <td>0</td>\n",
       "    </tr>\n",
       "    <tr>\n",
       "      <th>3424</th>\n",
       "      <td>0</td>\n",
       "      <td>0</td>\n",
       "      <td>0</td>\n",
       "      <td>2</td>\n",
       "      <td>0</td>\n",
       "      <td>1</td>\n",
       "      <td>1996</td>\n",
       "      <td>0</td>\n",
       "    </tr>\n",
       "    <tr>\n",
       "      <th>3425</th>\n",
       "      <td>0</td>\n",
       "      <td>0</td>\n",
       "      <td>0</td>\n",
       "      <td>0</td>\n",
       "      <td>0</td>\n",
       "      <td>1</td>\n",
       "      <td>1996</td>\n",
       "      <td>0</td>\n",
       "    </tr>\n",
       "    <tr>\n",
       "      <th>3426</th>\n",
       "      <td>0</td>\n",
       "      <td>0</td>\n",
       "      <td>0</td>\n",
       "      <td>0</td>\n",
       "      <td>0</td>\n",
       "      <td>1</td>\n",
       "      <td>1997</td>\n",
       "      <td>0</td>\n",
       "    </tr>\n",
       "    <tr>\n",
       "      <th>3427</th>\n",
       "      <td>0</td>\n",
       "      <td>0</td>\n",
       "      <td>0</td>\n",
       "      <td>0</td>\n",
       "      <td>0</td>\n",
       "      <td>1</td>\n",
       "      <td>1997</td>\n",
       "      <td>0</td>\n",
       "    </tr>\n",
       "    <tr>\n",
       "      <th>3428</th>\n",
       "      <td>0</td>\n",
       "      <td>0</td>\n",
       "      <td>0</td>\n",
       "      <td>0</td>\n",
       "      <td>0</td>\n",
       "      <td>1</td>\n",
       "      <td>1997</td>\n",
       "      <td>0</td>\n",
       "    </tr>\n",
       "    <tr>\n",
       "      <th>3429</th>\n",
       "      <td>0</td>\n",
       "      <td>0</td>\n",
       "      <td>0</td>\n",
       "      <td>0</td>\n",
       "      <td>0</td>\n",
       "      <td>1</td>\n",
       "      <td>1997</td>\n",
       "      <td>0</td>\n",
       "    </tr>\n",
       "    <tr>\n",
       "      <th>3430</th>\n",
       "      <td>0</td>\n",
       "      <td>0</td>\n",
       "      <td>0</td>\n",
       "      <td>0</td>\n",
       "      <td>0</td>\n",
       "      <td>1</td>\n",
       "      <td>1999</td>\n",
       "      <td>0</td>\n",
       "    </tr>\n",
       "    <tr>\n",
       "      <th>3431</th>\n",
       "      <td>0</td>\n",
       "      <td>0</td>\n",
       "      <td>0</td>\n",
       "      <td>0</td>\n",
       "      <td>0</td>\n",
       "      <td>1</td>\n",
       "      <td>2000</td>\n",
       "      <td>0</td>\n",
       "    </tr>\n",
       "    <tr>\n",
       "      <th>3432</th>\n",
       "      <td>0</td>\n",
       "      <td>0</td>\n",
       "      <td>0</td>\n",
       "      <td>0</td>\n",
       "      <td>0</td>\n",
       "      <td>1</td>\n",
       "      <td>2000</td>\n",
       "      <td>0</td>\n",
       "    </tr>\n",
       "    <tr>\n",
       "      <th>3433</th>\n",
       "      <td>0</td>\n",
       "      <td>0</td>\n",
       "      <td>1</td>\n",
       "      <td>0</td>\n",
       "      <td>0</td>\n",
       "      <td>1</td>\n",
       "      <td>2000</td>\n",
       "      <td>0</td>\n",
       "    </tr>\n",
       "    <tr>\n",
       "      <th>3434</th>\n",
       "      <td>0</td>\n",
       "      <td>0</td>\n",
       "      <td>0</td>\n",
       "      <td>0</td>\n",
       "      <td>0</td>\n",
       "      <td>1</td>\n",
       "      <td>2000</td>\n",
       "      <td>0</td>\n",
       "    </tr>\n",
       "    <tr>\n",
       "      <th>3435</th>\n",
       "      <td>0</td>\n",
       "      <td>0</td>\n",
       "      <td>0</td>\n",
       "      <td>0</td>\n",
       "      <td>0</td>\n",
       "      <td>1</td>\n",
       "      <td>2000</td>\n",
       "      <td>0</td>\n",
       "    </tr>\n",
       "    <tr>\n",
       "      <th>3436</th>\n",
       "      <td>0</td>\n",
       "      <td>0</td>\n",
       "      <td>0</td>\n",
       "      <td>0</td>\n",
       "      <td>0</td>\n",
       "      <td>1</td>\n",
       "      <td>2001</td>\n",
       "      <td>0</td>\n",
       "    </tr>\n",
       "    <tr>\n",
       "      <th>3437</th>\n",
       "      <td>0</td>\n",
       "      <td>0</td>\n",
       "      <td>1</td>\n",
       "      <td>0</td>\n",
       "      <td>0</td>\n",
       "      <td>1</td>\n",
       "      <td>2001</td>\n",
       "      <td>0</td>\n",
       "    </tr>\n",
       "    <tr>\n",
       "      <th>3438</th>\n",
       "      <td>0</td>\n",
       "      <td>0</td>\n",
       "      <td>1</td>\n",
       "      <td>0</td>\n",
       "      <td>0</td>\n",
       "      <td>1</td>\n",
       "      <td>2003</td>\n",
       "      <td>0</td>\n",
       "    </tr>\n",
       "  </tbody>\n",
       "</table>\n",
       "<p>238 rows × 8 columns</p>\n",
       "</div>"
      ],
      "text/plain": [
       "      village_lang_int  village_int  female  close_multiling  far_multiling  \\\n",
       "3201                 0            0       0                2              1   \n",
       "3202                 0            0       0                0              0   \n",
       "3203                 0            0       0                2              0   \n",
       "3204                 0            0       1                2              0   \n",
       "3205                 0            0       0                2              0   \n",
       "3206                 0            0       0                2              0   \n",
       "3207                 0            0       0                2              1   \n",
       "3208                 0            0       0                2              0   \n",
       "3209                 0            0       0                2              1   \n",
       "3210                 0            0       1                2              0   \n",
       "3211                 0            0       0                2              1   \n",
       "3212                 0            0       0                2              1   \n",
       "3213                 0            0       1                2              0   \n",
       "3214                 0            0       0                2              1   \n",
       "3215                 0            0       0                2              0   \n",
       "3216                 0            0       0                2              2   \n",
       "3217                 0            0       0                2              0   \n",
       "3218                 0            0       1                2              1   \n",
       "3219                 0            0       1                2              0   \n",
       "3220                 0            0       0                2              1   \n",
       "3221                 0            0       0                2              2   \n",
       "3222                 0            0       0                2              0   \n",
       "3223                 0            0       0                2              2   \n",
       "3224                 0            0       1                2              0   \n",
       "3225                 0            0       1                2              0   \n",
       "3226                 0            0       1                2              0   \n",
       "3227                 0            0       1                2              0   \n",
       "3228                 0            0       1                2              0   \n",
       "3229                 0            0       0                2              1   \n",
       "3230                 0            0       1                2              0   \n",
       "...                ...          ...     ...              ...            ...   \n",
       "3409                 0            0       0                0              0   \n",
       "3410                 0            0       1                0              0   \n",
       "3411                 0            0       1                0              0   \n",
       "3412                 0            0       0                0              0   \n",
       "3413                 0            0       0                0              0   \n",
       "3414                 0            0       0                0              0   \n",
       "3415                 0            0       0                0              0   \n",
       "3416                 0            0       1                0              0   \n",
       "3417                 0            0       0                1              0   \n",
       "3418                 0            0       1                0              0   \n",
       "3419                 0            0       0                1              0   \n",
       "3420                 0            0       1                0              0   \n",
       "3421                 0            0       0                0              0   \n",
       "3422                 0            0       0                0              0   \n",
       "3423                 0            0       1                0              0   \n",
       "3424                 0            0       0                2              0   \n",
       "3425                 0            0       0                0              0   \n",
       "3426                 0            0       0                0              0   \n",
       "3427                 0            0       0                0              0   \n",
       "3428                 0            0       0                0              0   \n",
       "3429                 0            0       0                0              0   \n",
       "3430                 0            0       0                0              0   \n",
       "3431                 0            0       0                0              0   \n",
       "3432                 0            0       0                0              0   \n",
       "3433                 0            0       1                0              0   \n",
       "3434                 0            0       0                0              0   \n",
       "3435                 0            0       0                0              0   \n",
       "3436                 0            0       0                0              0   \n",
       "3437                 0            0       1                0              0   \n",
       "3438                 0            0       1                0              0   \n",
       "\n",
       "      rus  year_of_birth  kum  \n",
       "3201    0           1850    1  \n",
       "3202    0           1870    0  \n",
       "3203    0           1870    0  \n",
       "3204    0           1873    0  \n",
       "3205    0           1880    0  \n",
       "3206    0           1884    0  \n",
       "3207    0           1886    1  \n",
       "3208    1           1891    0  \n",
       "3209    1           1893    0  \n",
       "3210    0           1893    0  \n",
       "3211    1           1896    1  \n",
       "3212    0           1896    1  \n",
       "3213    1           1898    0  \n",
       "3214    1           1899    1  \n",
       "3215    1           1900    0  \n",
       "3216    1           1900    1  \n",
       "3217    0           1900    0  \n",
       "3218    0           1900    0  \n",
       "3219    0           1901    0  \n",
       "3220    1           1902    1  \n",
       "3221    1           1902    1  \n",
       "3222    0           1905    0  \n",
       "3223    1           1906    0  \n",
       "3224    1           1906    0  \n",
       "3225    1           1906    0  \n",
       "3226    0           1907    0  \n",
       "3227    0           1908    0  \n",
       "3228    1           1908    0  \n",
       "3229    0           1909    0  \n",
       "3230    0           1910    0  \n",
       "...   ...            ...  ...  \n",
       "3409    1           1989    0  \n",
       "3410    1           1990    0  \n",
       "3411    1           1990    0  \n",
       "3412    1           1990    0  \n",
       "3413    1           1990    0  \n",
       "3414    1           1990    0  \n",
       "3415    1           1991    0  \n",
       "3416    1           1992    0  \n",
       "3417    1           1993    0  \n",
       "3418    1           1993    0  \n",
       "3419    1           1994    0  \n",
       "3420    1           1995    0  \n",
       "3421    1           1996    0  \n",
       "3422    1           1996    0  \n",
       "3423    1           1996    0  \n",
       "3424    1           1996    0  \n",
       "3425    1           1996    0  \n",
       "3426    1           1997    0  \n",
       "3427    1           1997    0  \n",
       "3428    1           1997    0  \n",
       "3429    1           1997    0  \n",
       "3430    1           1999    0  \n",
       "3431    1           2000    0  \n",
       "3432    1           2000    0  \n",
       "3433    1           2000    0  \n",
       "3434    1           2000    0  \n",
       "3435    1           2000    0  \n",
       "3436    1           2001    0  \n",
       "3437    1           2001    0  \n",
       "3438    1           2003    0  \n",
       "\n",
       "[238 rows x 8 columns]"
      ]
     },
     "execution_count": 949,
     "metadata": {},
     "output_type": "execute_result"
    }
   ],
   "source": [
    "df"
   ]
  },
  {
   "cell_type": "markdown",
   "metadata": {},
   "source": [
    "### Plots"
   ]
  },
  {
   "cell_type": "code",
   "execution_count": 950,
   "metadata": {
    "collapsed": true
   },
   "outputs": [],
   "source": [
    "def split_by_decade(df, n=10):\n",
    "    result = {}\n",
    "    start = min(df['year_of_birth']) - min(df['year_of_birth']) % n\n",
    "    finish = max(df['year_of_birth']) - max(df['year_of_birth']) % n\n",
    "    x = start\n",
    "    while x + n <= finish:\n",
    "        result[x] = df.query('{} < year_of_birth < {}'.format(x, x + n))\n",
    "        x += n\n",
    "    return result"
   ]
  },
  {
   "cell_type": "code",
   "execution_count": 951,
   "metadata": {
    "collapsed": false
   },
   "outputs": [],
   "source": [
    "# years = sorted(set(df['year_of_birth']))\n",
    "# result = {}\n",
    "# for x in years:\n",
    "#    result[x] = df.query('{} == year_of_birth'.format(x))"
   ]
  },
  {
   "cell_type": "code",
   "execution_count": 952,
   "metadata": {
    "collapsed": false
   },
   "outputs": [],
   "source": [
    "decade_split = split_by_decade(df)"
   ]
  },
  {
   "cell_type": "code",
   "execution_count": 954,
   "metadata": {
    "collapsed": true
   },
   "outputs": [],
   "source": [
    "## from collections import Counter\n",
    "\n",
    "def df_to_plottable(df, field='close_multiling'):\n",
    "    female = df[df['female'] == 1]\n",
    "    male = df[df['female'] == 0]\n",
    "    female_counter = Counter(list(female[field]))\n",
    "    male_counter = Counter(list(male[field]))\n",
    "#     return male_counter, female_counter\n",
    "    return counter_to_xy(male_counter), counter_to_xy(female_counter)\n",
    "\n",
    "# для всех\n",
    "def df_to_plottable1(df, field='rus'):\n",
    "    female_counter = Counter(list(df[field]))\n",
    "#     return male_counter, female_counter\n",
    "    return counter_to_xy(female_counter)\n",
    "    \n",
    "def counter_to_xy(counter):\n",
    "    xs = [0, 1, 2, 3, 4, 5, 6]\n",
    "    ys = [(counter[x]/(sum(counter.values()) or 1)) for x in xs]\n",
    "    return xs, ys"
   ]
  },
  {
   "cell_type": "code",
   "execution_count": 955,
   "metadata": {
    "collapsed": false
   },
   "outputs": [
    {
     "data": {
      "text/plain": [
       "(([0, 1, 2, 3, 4, 5, 6], [0.0, 0.0, 1.0, 0.0, 0.0, 0.0, 0.0]),\n",
       " ([0, 1, 2, 3, 4, 5, 6], [0.0, 0.0, 1.0, 0.0, 0.0, 0.0, 0.0]))"
      ]
     },
     "execution_count": 955,
     "metadata": {},
     "output_type": "execute_result"
    }
   ],
   "source": [
    "df_to_plottable(decade_split[1890])"
   ]
  },
  {
   "cell_type": "code",
   "execution_count": 956,
   "metadata": {
    "collapsed": false
   },
   "outputs": [],
   "source": [
    "import matplotlib as mpl\n",
    "from matplotlib import pyplot as plt\n",
    "import seaborn as sns\n",
    "sns.set_palette(\"hls\") # or \"hls\"\n",
    "sns.set_style(\"whitegrid\")\n",
    "sns.set_context(\"poster\")\n",
    "%matplotlib inline\n",
    "# %pylab inline\n",
    "from pylab import rcParams\n",
    "rcParams['figure.figsize'] = (8, 6)"
   ]
  },
  {
   "cell_type": "code",
   "execution_count": 86,
   "metadata": {
    "collapsed": false
   },
   "outputs": [
    {
     "data": {
      "image/png": "[encoded data removed]",
      "text/plain": [
       "<matplotlib.figure.Figure at 0x10a869dd8>"
      ]
     },
     "metadata": {},
     "output_type": "display_data"
    }
   ],
   "source": [
    "# по декадам отрезает все что равно нулю + 1\n",
    "for x in decade_split:\n",
    "    pm, pf = df_to_plottable(decade_split[x])\n",
    "    plt.clf()\n",
    "    plt.plot(pm[0], pm[1], color='orchid')\n",
    "    plt.plot(pf[0], pf[1], color='teal')\n",
    "    zero = max(pm[1].index(0), pf[1].index(0))\n",
    "    plt.xticks([0,1,2,3,4,5])\n",
    "    plt.xlim(0, zero + 1)\n",
    "    plt.savefig('{}.png'.format(x))"
   ]
  },
  {
   "cell_type": "code",
   "execution_count": 957,
   "metadata": {
    "collapsed": false
   },
   "outputs": [
    {
     "data": {
      "image/png": "[encoded data removed]",
      "text/plain": [
       "<matplotlib.figure.Figure at 0x10d7b1b00>"
      ]
     },
     "metadata": {},
     "output_type": "display_data"
    }
   ],
   "source": [
    "# по декадам отрезает все что равно нулю + 1\n",
    "for x in decade_split:\n",
    "    pm, pf = df_to_plottable(decade_split[x])\n",
    "    plt.clf()\n",
    "    plt.bar(np.arange(len(pm[0]))+0.15, pm[1], width=0.2, color=\"teal\", label=\"male\")\n",
    "    plt.bar(np.arange(len(pf[0]))+0.35, pf[1], width=0.2, color=\"orchid\", label=\"female\")\n",
    "    zero = max(pm[1].index(0), pf[1].index(0))\n",
    "# для всего кроме русского\n",
    "    plt.xlim(-0.25, zero+0.75)\n",
    "    plt.xticks(0.25 * makearray(zero), np.arange(0, zero + 2))\n",
    "# для русского\n",
    "#     plt.xlim(-0.25, zero)\n",
    "#     plt.xticks(0.25 * makearray(zero), ['no','yes'])\n",
    "    plt.savefig('{}.png'.format(x))"
   ]
  },
  {
   "cell_type": "code",
   "execution_count": 108,
   "metadata": {
    "collapsed": false
   },
   "outputs": [
    {
     "data": {
      "image/png": "[encoded data removed]",
      "text/plain": [
       "<matplotlib.figure.Figure at 0x10682bda0>"
      ]
     },
     "metadata": {},
     "output_type": "display_data"
    }
   ],
   "source": [
    "# по всему датафрейму\n",
    "pm, pf = df_to_plottable(df)\n",
    "plt.clf()\n",
    "plt.plot(pm[0], pm[1], color='red')\n",
    "plt.plot(pf[0], pf[1], color='blue')\n",
    "plt.savefig('male_dargwa.png')"
   ]
  },
  {
   "cell_type": "code",
   "execution_count": 109,
   "metadata": {
    "collapsed": false
   },
   "outputs": [
    {
     "data": {
      "image/png": "[encoded data removed]",
      "text/plain": [
       "<matplotlib.figure.Figure at 0x109d57a90>"
      ]
     },
     "metadata": {},
     "output_type": "display_data"
    }
   ],
   "source": [
    "# без гендера\n",
    "pf = df_to_plottable1(df)\n",
    "plt.clf()\n",
    "plt.plot(pf[0], pf[1], color='blue')\n",
    "plt.savefig('pers_nogender_rus.png')"
   ]
  },
  {
   "cell_type": "code",
   "execution_count": 117,
   "metadata": {
    "collapsed": false
   },
   "outputs": [
    {
     "data": {
      "text/plain": [
       "1990"
      ]
     },
     "execution_count": 117,
     "metadata": {},
     "output_type": "execute_result"
    }
   ],
   "source": [
    "1992 - 1992 % 10"
   ]
  },
  {
   "cell_type": "code",
   "execution_count": 45,
   "metadata": {
    "collapsed": false,
    "scrolled": false
   },
   "outputs": [
    {
     "data": {
      "image/png": "[encoded data removed]",
      "text/plain": [
       "<matplotlib.figure.Figure at 0x109c74828>"
      ]
     },
     "metadata": {},
     "output_type": "display_data"
    }
   ],
   "source": [
    "# plt.bar(np.arange(1,len(letternorm)),letternorm[1:], width=0.5, color=\"#FFA600\", label=\"female\")\n",
    "# plt.bar(np.arange(1,len(bibletternorm))+0.5,bibletternorm[1:], width=0.5, color=\"b\", label=\"male\")\n",
    "# plt.set_xticks(np.arange(len(bibletternorm)) + 0.5)\n",
    "# по всему датафрейму\n",
    "import numpy as np\n",
    "pm, pf = df_to_plottable(df)\n",
    "plt.bar(pm[0], pm[1], width=0.5, color=\"#FFA600\", label=\"female\")\n",
    "plt.bar(np.arange(len(pf[0]))+0.5, pf[1], width=0.5, color=\"b\", label=\"male\")\n",
    "zero = max(pm[1].index(0), pf[1].index(0))\n",
    "plt.xlim(-0.25, zero+0.75)\n",
    "plt.xticks(0.25 * makearray(zero), np.arange(1, zero + 2))\n",
    "# plt.set_xticklabels()\n",
    "plt.savefig('male_dargwa.png')"
   ]
  },
  {
   "cell_type": "code",
   "execution_count": 44,
   "metadata": {
    "collapsed": false
   },
   "outputs": [
    {
     "data": {
      "text/plain": [
       "array([1, 2, 3])"
      ]
     },
     "execution_count": 44,
     "metadata": {},
     "output_type": "execute_result"
    }
   ],
   "source": [
    "np.arange(1, zero + 2)"
   ]
  },
  {
   "cell_type": "code",
   "execution_count": 821,
   "metadata": {
    "collapsed": false
   },
   "outputs": [
    {
     "data": {
      "text/plain": [
       "array([ 1,  5,  9, 13, 17])"
      ]
     },
     "execution_count": 821,
     "metadata": {},
     "output_type": "execute_result"
    }
   ],
   "source": [
    "def makearray(zero):\n",
    "    result = [1]\n",
    "    while len(result) < zero + 1:\n",
    "        result.append(result[-1] + 4)\n",
    "    return np.array(result)\n",
    "\n",
    "makearray(zero)"
   ]
  },
  {
   "cell_type": "code",
   "execution_count": 56,
   "metadata": {
    "collapsed": false
   },
   "outputs": [
    {
     "data": {
      "image/png": "[encoded data removed]",
      "text/plain": [
       "<matplotlib.figure.Figure at 0x109fb3240>"
      ]
     },
     "metadata": {},
     "output_type": "display_data"
    }
   ],
   "source": [
    "# без гендера\n",
    "pf = df_to_plottable1(df)\n",
    "plt.bar(pf[0], pf[1], color='blue')\n",
    "plt.savefig('pers_nogender_rus.png')"
   ]
  },
  {
   "cell_type": "markdown",
   "metadata": {
    "collapsed": true
   },
   "source": [
    "### Classifiers"
   ]
  },
  {
   "cell_type": "code",
   "execution_count": 783,
   "metadata": {
    "collapsed": false
   },
   "outputs": [],
   "source": [
    "from sklearn.model_selection import train_test_split\n",
    "\n",
    "def split_df(df):\n",
    "    \"\"\"returns x_train, x_test, y_train, y_test\"\"\"\n",
    "    y = df['multiling']\n",
    "    x = df[list(set(col_list) - {'multiling'})].as_matrix()\n",
    "    x_train, x_test, y_train, y_test = train_test_split(x, y, test_size=0.2)\n",
    "    y_train = np.array(y_train)\n",
    "    y_test = np.array(y_test)\n",
    "    return x_train, x_test, y_train, y_test\n",
    "\n",
    "def split_by_year(df, year):\n",
    "    return df[df['year_of_birth'] <= year], df[df['year_of_birth'] > year]\n",
    "\n",
    "def check_quality(predictor, x_test, y_test):\n",
    "    predicted = predictor.predict(x_test)\n",
    "    y_test = np.array(y_test)\n",
    "    return sum(int(round(predicted[i]) == round(y_test[i])) for i in range(len(y_test))) / len(y_test)"
   ]
  },
  {
   "cell_type": "code",
   "execution_count": 784,
   "metadata": {
    "collapsed": false
   },
   "outputs": [],
   "source": [
    "x_train, x_test, y_train, y_test = split_df(df)"
   ]
  },
  {
   "cell_type": "code",
   "execution_count": 785,
   "metadata": {
    "collapsed": false
   },
   "outputs": [
    {
     "data": {
      "text/plain": [
       "0.452914798206278"
      ]
     },
     "execution_count": 785,
     "metadata": {},
     "output_type": "execute_result"
    }
   ],
   "source": [
    "from sklearn.ensemble import RandomForestClassifier\n",
    "\n",
    "rfc = RandomForestClassifier(n_estimators=700).fit(x_train, y_train)\n",
    "check_quality(rfc, x_test, y_test)\n",
    "\n",
    "# вся выборка — ближнее многоязычие — все факторы 0.81875 ('village_lang_int','village_int','female','close_multiling','far_multiling','rus','year_of_birth') \n",
    "# вся выборка — ближнее многоязычие — без 'village_lang_int','village_int' 0.655\n",
    "# вся выборка — ближнее многоязычие — без 'female' 0.79\n",
    "# вся выборка — ближнее многоязычие — без 'far_multiling' 0.8025\n",
    "# вся выборка — ближнее многоязычие — без 'rus' 0.77875\n",
    "# вся выборка — ближнее многоязычие — без 'year_of_birth' 0.765\n",
    "\n",
    "# вся выборка — многоязычие без русского — 0.655 'village_lang_int','village_int','female','rus','year_of_birth','multiling_withoutrus'\n",
    "\n",
    "# вся выборка — дальнее многоязычие — все факторы 0.795\n",
    "# вся выборка — дальнее многоязычие — без 'village_lang_int','village_int' 0.76625\n",
    "# вся выборка — дальнее многоязычие — без 'female' 0.825\n",
    "# вся выборка — дальнее многоязычие — без 'close_multiling' 0.82125\n",
    "# вся выборка — дальнее многоязычие — без 'rus' \n",
    "# вся выборка — дальнее многоязычие — без 'year_of_birth' 0.84125\n",
    "\n",
    "# до 1920 — ближнее многоязычие — все факторы 0.813953488372093\n",
    "# до 1920 — ближнее многоязычие — без 'village_lang_int','village_int' 0.4883720930232558\n",
    "# до 1920 — ближнее многоязычие — без 'female' 0.7441860465116279\n",
    "# до 1920 — ближнее многоязычие — без 'far_multiling' 0.7848837209302325\n",
    "# до 1920 — ближнее многоязычие — без 'rus' 0.7383720930232558\n",
    "\n",
    "# до 1920 — дальнее многоязычие — все факторы 0.7383720930232558 \n",
    "# до 1920 — дальнее многоязычие — без 'village_lang_int','village_int' 0.7732558139534884\n",
    "# до 1920 — дальнее многоязычие — без 'female' 0.7441860465116279\n",
    "# до 1920 — дальнее многоязычие — без 'close_multiling' 0.7267441860465116\n",
    "# до 1920 — дальнее многоязычие — без 'rus' 0.7267441860465116\n",
    "\n",
    "# от 1920 по 1940 — ближнее многоязычие — все факторы 0.7668161434977578\n",
    "# от 1920 по 1940 — ближнее многоязычие — без 'village_lang_int','village_int' 0.6053811659192825\n",
    "# от 1920 по 1940 — ближнее многоязычие — без 'female' 0.8295964125560538\n",
    "# от 1920 по 1940 — ближнее многоязычие — без 'far_multiling' 0.8116591928251121\n",
    "# от 1920 по 1940 — ближнее многоязычие — без 'rus' 0.8116591928251121\n",
    "\n",
    "# от 1920 по 1940 — дальнее многоязычие — все факторы 0.7488789237668162\n",
    "# от 1920 по 1940 — дальнее многоязычие — без 'village_lang_int','village_int' 0.6816143497757847\n",
    "# от 1920 по 1940 — дальнее многоязычие — без 'female' 0.8071748878923767\n",
    "# от 1920 по 1940 — дальнее многоязычие — без 'close_multiling' 0.7488789237668162\n",
    "# от 1920 по 1940 — дальнее многоязычие — без 'rus' 0.7757847533632287\n",
    "\n",
    "# от 1940 — ближнее многоязычие — все факторы 0.8249400479616307\n",
    "# от 1940 — ближнее многоязычие — без 'village_lang_int','village_int' 0.7817745803357314\n",
    "# от 1940 — ближнее многоязычие — без 'female' 0.829736211031175\n",
    "# от 1940 — ближнее многоязычие — без 'far_multiling' 0.8129496402877698\n",
    "# от 1940 — ближнее многоязычие — без 'rus' 0.8249400479616307\n",
    "\n",
    "# от 1940 — дальнее многоязычие — все факторы 0.8776978417266187\n",
    "# от 1940 — дальнее многоязычие — без 'village_lang_int','village_int' 0.8776978417266187\n",
    "# от 1940 — дальнее многоязычие — без 'female' 0.8705035971223022\n",
    "# от 1940 — дальнее многоязычие — без 'close_multiling' 0.841726618705036\n",
    "# от 1940 — дальнее многоязычие — без 'rus' 0.8920863309352518\n",
    "\n",
    "# 1920 multiling_withoutrus все факторы 0.6337209302325582\n",
    "# 1920 multiling_withoutrus без гендера 0.5988372093023255\n",
    "# 1920-1940 multiling_withoutrus все факторы 0.7074340527577938\n",
    "# 1920-1940 multiling_withoutrus без гендера 0.7266187050359713\n",
    "# 1940 multiling_withoutrus все факторы 0.6547085201793722\n",
    "# 1940 multiling_withoutrus без гендера 0.6591928251121076\n",
    "\n",
    "# 1920 multiling все факторы 0.563953488372093\n",
    "# 1920 multiling без гендера 0.3953488372093023\n",
    "# 1920-1940 multiling все факторы 0.6882494004796164\n",
    "# 1920-1940 multiling без гендера 0.6714628297362111\n",
    "# 1940 multiling все факторы 0.4663677130044843\n",
    "# 1940 multiling без гендера 0.452914798206278"
   ]
  },
  {
   "cell_type": "code",
   "execution_count": 786,
   "metadata": {
    "collapsed": false
   },
   "outputs": [
    {
     "name": "stdout",
     "output_type": "stream",
     "text": [
      "      Iter       Train Loss   Remaining Time \n",
      "         1        1568.1880            5.05s\n",
      "         2        1509.1332            4.71s\n",
      "         3        1460.4706            4.52s\n",
      "         4        1417.6199            4.49s\n",
      "         5        1377.0911            4.50s\n",
      "         6        1344.9901            4.46s\n",
      "         7        1316.7395            4.35s\n",
      "         8        1292.9344            4.33s\n",
      "         9        1269.7523            4.24s\n",
      "        10        1251.0650            4.16s\n",
      "        20        1142.7735            3.88s\n",
      "        30        1097.6431            3.82s\n",
      "        40        1072.0795            3.73s\n",
      "        50        1056.8986            3.61s\n",
      "        60        1045.5899            3.45s\n",
      "        70        1037.2818            3.34s\n",
      "        80        1031.5783            3.25s\n",
      "        90        1026.6993            3.21s\n",
      "       100        1022.8045            3.15s\n",
      "       200        1009.5487            2.53s\n",
      "       300        1007.2101            2.03s\n",
      "       400        1006.6614            1.52s\n",
      "       500        1006.3794            1.01s\n",
      "       600        1006.2424            0.51s\n",
      "       700        1006.1997            0.00s\n"
     ]
    },
    {
     "data": {
      "text/plain": [
       "0.452914798206278"
      ]
     },
     "execution_count": 786,
     "metadata": {},
     "output_type": "execute_result"
    }
   ],
   "source": [
    "from sklearn.ensemble import GradientBoostingClassifier\n",
    "\n",
    "gbc = GradientBoostingClassifier(n_estimators=700, verbose=True).fit(x_train, y_train)\n",
    "check_quality(gbc, x_test, y_test)\n",
    "# вся выборка — ближнее многоязычие — все факторы 0.82625 ('village_lang_int','village_int','female','close_multiling','far_multiling','rus','year_of_birth') \n",
    "# вся выборка — ближнее многоязычие — без 'village_lang_int','village_int' 0.66125\n",
    "# вся выборка — ближнее многоязычие — без 'female' 0.82\n",
    "# вся выборка — ближнее многоязычие — без 'far_multiling' 0.795\n",
    "# вся выборка — ближнее многоязычие — без 'rus' 0.8275\n",
    "# вся выборка — ближнее многоязычие — без 'year_of_birth' 0.8\n",
    "\n",
    "# вся выборка — многоязычие без русского — 0.6775 'village_lang_int','village_int','female','rus','year_of_birth','multiling_withoutrus'\n",
    "\n",
    "# вся выборка — дальнее многоязычие — все факторы 0.79125\n",
    "# вся выборка — дальнее многоязычие — без 'village_lang_int','village_int' 0.7875\n",
    "# вся выборка — дальнее многоязычие — без 'female' 0.82\n",
    "# вся выборка — дальнее многоязычие — без 'close_multiling' 0.835\n",
    "# вся выборка — дальнее многоязычие — без 'rus' 0.835\n",
    "# вся выборка — дальнее многоязычие — без 'year_of_birth' 0.83875\n",
    "\n",
    "# до 1920 — ближнее многоязычие — все факторы 0.7616279069767442\n",
    "# до 1920 — ближнее многоязычие — без 'village_lang_int','village_int' 0.5290697674418605\n",
    "# до 1920 — ближнее многоязычие — без 'female' 0.7383720930232558\n",
    "# до 1920 — ближнее многоязычие — без 'far_multiling' 0.7848837209302325\n",
    "# до 1920 — ближнее многоязычие — без 'rus' 0.6918604651162791\n",
    "\n",
    "# до 1920 — дальнее многоязычие — все факторы 0.7558139534883721\n",
    "# до 1920 — дальнее многоязычие — без 'village_lang_int','village_int' 0.7732558139534884\n",
    "# до 1920 — дальнее многоязычие — без 'female' 0.7616279069767442\n",
    "# до 1920 — дальнее многоязычие — без 'close_multiling' 0.7325581395348837\n",
    "# до 1920 — дальнее многоязычие — без 'rus' 0.7558139534883721 \n",
    "\n",
    "# от 1940 — ближнее многоязычие — все факторы 0.8129496402877698\n",
    "# от 1940 — ближнее многоязычие — без 'village_lang_int','village_int' 0.7817745803357314\n",
    "# от 1940 — ближнее многоязычие — без 'female' 0.8273381294964028\n",
    "# от 1940 — ближнее многоязычие — без 'far_multiling' 0.8201438848920863\n",
    "# от 1940 — ближнее многоязычие — без 'rus' 0.827338129496402\n",
    "\n",
    "# от 1940 — дальнее многоязычие — все факторы 0.8848920863309353\n",
    "# от 1940 — дальнее многоязычие — без 'village_lang_int','village_int' 0.8776978417266187\n",
    "# от 1940 — дальнее многоязычие — без 'female' 0.8705035971223022\n",
    "# от 1940 — дальнее многоязычие — без 'close_multiling' 0.8489208633093526\n",
    "# от 1940 — дальнее многоязычие — без 'rus' 0.8872901678657075\n",
    "\n",
    "# 1920 multiling_withoutrus все факторы 0.627906976744186\n",
    "# 1920 multiling_withoutrus без гендера 0.6104651162790697\n",
    "# 1920-1940 multiling_withoutrus все факторы 0.7074340527577938\n",
    "# 1920-1940 multiling_withoutrus без гендера 0.7218225419664268\n",
    "# 1940 multiling_withoutrus все факторы 0.6412556053811659\n",
    "# 1940 multiling_withoutrus без гендера 0.6591928251121076\n",
    "\n",
    "# 1920 multiling все факторы 0.5581395348837209\n",
    "# 1920 multiling без гендера 0.4069767441860465\n",
    "# 1920-1940 multiling все факторы 0.6906474820143885\n",
    "# 1920-1940 multiling без гендера 0.6906474820143885\n",
    "# 1940 multiling все факторы 0.4663677130044843\n",
    "# 1940 multiling без гендера 0.452914798206278"
   ]
  },
  {
   "cell_type": "code",
   "execution_count": 514,
   "metadata": {
    "collapsed": false
   },
   "outputs": [
    {
     "data": {
      "text/plain": [
       "0.7757847533632287"
      ]
     },
     "execution_count": 514,
     "metadata": {},
     "output_type": "execute_result"
    }
   ],
   "source": [
    "from sklearn.svm import SVC\n",
    "\n",
    "svc = SVC().fit(x_train, y_train)\n",
    "check_quality(svc, x_test, y_test)"
   ]
  },
  {
   "cell_type": "code",
   "execution_count": 13,
   "metadata": {
    "collapsed": false
   },
   "outputs": [
    {
     "data": {
      "text/plain": [
       "0.48788927335640137"
      ]
     },
     "execution_count": 13,
     "metadata": {},
     "output_type": "execute_result"
    }
   ],
   "source": [
    "from sklearn.neighbors import KNeighborsClassifier\n",
    "\n",
    "knc = KNeighborsClassifier(n_neighbors=3).fit(x_train, y_train)\n",
    "check_quality(knc, x_test, y_test)"
   ]
  },
  {
   "cell_type": "code",
   "execution_count": 17,
   "metadata": {
    "collapsed": false
   },
   "outputs": [
    {
     "data": {
      "text/plain": [
       "0.27335640138408307"
      ]
     },
     "execution_count": 17,
     "metadata": {},
     "output_type": "execute_result"
    }
   ],
   "source": [
    "from sklearn.linear_model import Perceptron\n",
    "\n",
    "p = Perceptron().fit(x_train, y_train)\n",
    "check_quality(p, x_test, y_test)"
   ]
  },
  {
   "cell_type": "code",
   "execution_count": 18,
   "metadata": {
    "collapsed": false
   },
   "outputs": [
    {
     "data": {
      "text/plain": [
       "0.47923875432525953"
      ]
     },
     "execution_count": 18,
     "metadata": {},
     "output_type": "execute_result"
    }
   ],
   "source": [
    "from sklearn.tree import DecisionTreeClassifier\n",
    "\n",
    "dtc = DecisionTreeClassifier().fit(x_train, y_train)\n",
    "check_quality(dtc, x_test, y_test)"
   ]
  }
 ],
 "metadata": {
  "kernelspec": {
   "display_name": "Python 3",
   "language": "python",
   "name": "python3"
  },
  "language_info": {
   "codemirror_mode": {
    "name": "ipython",
    "version": 3
   },
   "file_extension": ".py",
   "mimetype": "text/x-python",
   "name": "python",
   "nbconvert_exporter": "python",
   "pygments_lexer": "ipython3",
   "version": "3.5.2"
  }
 },
 "nbformat": 4,
 "nbformat_minor": 0
}
